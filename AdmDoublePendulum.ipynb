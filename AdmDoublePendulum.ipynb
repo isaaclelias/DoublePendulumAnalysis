{
 "cells": [
  {
   "cell_type": "markdown",
   "metadata": {},
   "source": [
    "# Introduction"
   ]
  },
  {
   "cell_type": "markdown",
   "metadata": {},
   "source": []
  },
  {
   "cell_type": "code",
   "execution_count": 10,
   "metadata": {},
   "outputs": [
    {
     "name": "stdout",
     "output_type": "stream",
     "text": [
      "8 threads available.\n"
     ]
    }
   ],
   "source": [
    "using Plots; gr()\n",
    "using DifferentialEquations\n",
    "using Base.Threads; println(Threads.nthreads(), \" threads available.\")\n",
    "using ProgressMeter\n",
    "using LinearAlgebra\n",
    "using CSV"
   ]
  },
  {
   "cell_type": "markdown",
   "metadata": {},
   "source": [
    "$$ l = \\frac{l_2}{l_1}\n",
    "    \\qquad\n",
    "    m = \\frac{m_2}{m_1}\n",
    "    \\qquad\n",
    "    \\tau = \\sqrt{\\frac{g}{l_1}} t $$"
   ]
  },
  {
   "cell_type": "code",
   "execution_count": 2,
   "metadata": {},
   "outputs": [],
   "source": [
    "struct Parameters\n",
    "    m::Float64\n",
    "    L::Float64\n",
    "end"
   ]
  },
  {
   "cell_type": "code",
   "execution_count": 3,
   "metadata": {},
   "outputs": [],
   "source": [
    "struct State <: AbstractVector{Float64}\n",
    "    θ1::Float64; θ2::Float64\n",
    "    ω1::Float64; ω2::Float64\n",
    "end\n",
    "\n",
    "Base.size(A::State) = (4,)\n",
    "function Base.getindex(A::State, i::Int)\n",
    "    if     i == 1; return A.θ1\n",
    "    elseif i == 2; return A.θ2\n",
    "    elseif i == 3; return A.ω1\n",
    "    elseif i == 4; return A.ω2\n",
    "    else; throw(BoundsError(A,i))\n",
    "    end\n",
    "end\n",
    "Base.eltype(::Type{State}) = Float64\n",
    "Base.:+(A::State, B::State) = State(A.θ1+B.θ1, A.θ2+B.θ2, A.ω1+B.ω1, A.ω2+B.ω2)\n",
    "Base.:-(A::State, B::State) = State(A.θ1-B.θ1, A.θ2-B.θ2, A.ω1-B.ω1, A.ω2-B.ω2)"
   ]
  },
  {
   "cell_type": "code",
   "execution_count": 4,
   "metadata": {},
   "outputs": [],
   "source": [
    "struct StateVector <: AbstractVector{State}\n",
    "    arr::Vector{State}\n",
    "end\n",
    "\n",
    "Base.size(A::AbstractVector{State}) = (length(A.arr),)\n",
    "Base.getindex(A::AbstractVector{State}, i::Int) = A.arr[i]\n",
    "Base.eltype(::Type{AbstractVector{State}}) = State"
   ]
  },
  {
   "cell_type": "code",
   "execution_count": 5,
   "metadata": {},
   "outputs": [],
   "source": [
    "struct PhasePath <: AbstractVector{State}\n",
    "    arr::Vector{State}\n",
    "    t::Vector{Float64}\n",
    "end"
   ]
  },
  {
   "cell_type": "code",
   "execution_count": 6,
   "metadata": {},
   "outputs": [],
   "source": [
    "struct PoincareSection <: AbstractVector{State}\n",
    "    arr::Vector{State}\n",
    "    E::Float64\n",
    "end"
   ]
  },
  {
   "cell_type": "markdown",
   "metadata": {},
   "source": [
    "## Used parameters for numerical calculations"
   ]
  },
  {
   "cell_type": "code",
   "execution_count": 7,
   "metadata": {},
   "outputs": [],
   "source": [
    "const std_tfinal = 1000.;\n",
    "const std_δZ_0 = State(1e-6, 1e-6, 1e-6, 1e-6)\n",
    "const div = (16, 8, 4)\n",
    "const integrator_atol = 1e-8;\n",
    "const integrator_reltol = 1e-8;"
   ]
  },
  {
   "cell_type": "markdown",
   "metadata": {},
   "source": [
    "# Motion equation"
   ]
  },
  {
   "cell_type": "markdown",
   "metadata": {},
   "source": [
    "$$ \\mathcal{T}_d = \\frac{1}{2} m_1 l_1^2 \\dot{\\theta}_1^2 + \\frac{1}{2} m_2 [l_1^2 \\dot{\\theta}_1^2 + l_2^2 \\dot{\\theta}_2^2 + 2 l_1 l_2 \\dot{\\theta}_1 \\dot{\\theta}_2 \\cos{(\\theta_1-\\theta_2)}] $$\n",
    "\n",
    "$$ \\mathcal{V}_d = -(m_1 + m_2) g l_1 \\cos{\\theta_1} - m_2 g l_2 \\cos{\\theta_2} $$\n",
    "\n",
    "$$ \\mathcal{L}_d = \\frac{1}{2} m_1 l_1^2 \\dot{\\theta}_1^2 + \\frac{1}{2} m_2 [l_1^2 \\dot{\\theta}_1^2 + l_2^2 \\dot{\\theta}_2^2 + 2 l_1 l_2 \\dot{\\theta}_1 \\dot{\\theta}_2 \\cos{(\\theta_1-\\theta_2)}] +(m_1 + m_2) g l_1 \\cos{\\theta_1} + m_2 g l_2 \\cos{\\theta_2} $$\n",
    "\n",
    "$$ \\frac{\\text{d}}{\\text{d}t} \\left( \\frac{\\partial \\mathcal{L}_d}{\\partial \\dot{\\theta}_i} \\right) - \\frac{\\partial \\mathcal{L}_d}{\\partial \\theta_i} = 0 \\quad , \\quad (i = 1, \\ 2) $$\n",
    "\n",
    "$$ \\begin{cases}\n",
    "\\begin{aligned}\n",
    "    0 =  & l_1 (m_1+m_2) \\ddot{\\theta}_1 + l_2 m_2 [\\cos{(\\theta_1-\\theta_2)} \\ddot{\\theta}_2 + \\sin{(\\theta_1-\\theta_2)} \\dot{\\theta}_2^2] + g (m_1+m_2) \\sin{\\theta_1} \\\\\n",
    "    0 = & l_2 \\ddot{\\theta}_2 + l_1 [\\cos{(\\theta_1-\\theta_2)} \\ddot{\\theta}_1 - \\sin{(\\theta_1-\\theta_2)} \\dot{\\theta}_1^2]  + g \\sin{\\theta}_2 = 0\n",
    "\\end{aligned}\n",
    "\\end{cases} $$"
   ]
  },
  {
   "cell_type": "code",
   "execution_count": 8,
   "metadata": {},
   "outputs": [
    {
     "data": {
      "text/plain": [
       "doublependulum (generic function with 1 method)"
      ]
     },
     "execution_count": 8,
     "metadata": {},
     "output_type": "execute_result"
    }
   ],
   "source": [
    "function doublependulum(\n",
    "        u::Array{Float64, 1},\n",
    "        p::Parameters,\n",
    "        t::Float64)\n",
    "    \n",
    "    θ1 = u[1]; ω1 = u[3];\n",
    "    θ2 = u[2]; ω2 = u[4];\n",
    "    \n",
    "    m = p.m\n",
    "    L = p.L\n",
    "    \n",
    "    ω = [ω1; ω2]\n",
    "    \n",
    "    M = [1+m               m*L*cos(θ1-θ2)\n",
    "         m*L*cos(θ1-θ2)    m*L^2         ]\n",
    "    \n",
    "    f = [-m*L*sin(θ1-θ2)*ω2^2-(1+m)*sin(θ1)\n",
    "         m*L*sin(θ1-θ2)*ω1^2-m*L*sin(θ2)  ]\n",
    "    \n",
    "    dθ = ω\n",
    "    dω = M\\f\n",
    "    \n",
    "    du = [dθ; dω]\n",
    "    \n",
    "    return du\n",
    "end"
   ]
  },
  {
   "cell_type": "code",
   "execution_count": null,
   "metadata": {},
   "outputs": [],
   "source": [
    "# Couldn't get this one to work\n",
    "\n",
    "function doublependulum!(\n",
    "    u::Array{Float64, 1},\n",
    "    p::Parameters,\n",
    "    t::Float64)\n",
    "\n",
    "θ1 = u[1]; ω1 = u[3];\n",
    "θ2 = u[2]; ω2 = u[4];\n",
    "\n",
    "m = p.m\n",
    "L = p.L\n",
    "\n",
    "ω = [ω1; ω2]\n",
    "\n",
    "M = [1+m               m*L*cos(θ1-θ2)\n",
    "     m*L*cos(θ1-θ2)    m*L^2         ]\n",
    "\n",
    "f = [-m*L*sin(θ1-θ2)*ω2^2-(1+m)*sin(θ1)\n",
    "     m*L*sin(θ1-θ2)*ω1^2-m*L*sin(θ2)  ]\n",
    "\n",
    "dθ = ω\n",
    "dω = M\\f\n",
    "\n",
    "du = [dθ; dω]\n",
    "\n",
    "return du\n",
    "end"
   ]
  },
  {
   "cell_type": "markdown",
   "metadata": {},
   "source": [
    "# Sectioning by the energy state"
   ]
  },
  {
   "cell_type": "code",
   "execution_count": 9,
   "metadata": {},
   "outputs": [
    {
     "data": {
      "text/plain": [
       "energy (generic function with 1 method)"
      ]
     },
     "execution_count": 9,
     "metadata": {},
     "output_type": "execute_result"
    }
   ],
   "source": [
    "function energy(p::Parameters, state::State)\n",
    "    m = p.m\n",
    "    L = p.L\n",
    "    \n",
    "    θ1 = state.θ1; ω1 = state.ω1\n",
    "    θ2 = state.θ2; ω2 = state.ω2\n",
    "    \n",
    "    T = (1/2)*ω1^2 +(1/2)*m*(ω1^2 +L^2*ω2^2 +2*L*ω1*ω2*cos(θ1-θ2))\n",
    "    V = -(1+m)*cos(θ1) -m*L*cos(θ2)\n",
    "    \n",
    "    return T+V\n",
    "end"
   ]
  },
  {
   "cell_type": "code",
   "execution_count": 11,
   "metadata": {},
   "outputs": [
    {
     "data": {
      "text/plain": [
       "minenergy (generic function with 1 method)"
      ]
     },
     "execution_count": 11,
     "metadata": {},
     "output_type": "execute_result"
    }
   ],
   "source": [
    "function minenergy(p::Parameters)\n",
    "    m = p.m\n",
    "    L = p.L\n",
    "    \n",
    "    a1 = -(1+m)\n",
    "    a2 = -m*L\n",
    "    \n",
    "    return a1+a2\n",
    "end"
   ]
  },
  {
   "cell_type": "markdown",
   "metadata": {},
   "source": [
    "$$ \\mathcal{E} = \\frac{1}{2} {\\theta_1'}^2 + \\frac{1}{2} m [{\\theta_1'}^2 + l^2 {\\theta_2'}^2 + 2 l \\theta_1' \\theta_2'\\cos{(\\theta_1-\\theta_2)}] -(1 + m) \\cos{\\theta_1} - m l \\cos{\\theta_2} $$\n",
    "\n",
    "$$ \\mathcal{E}_{\\theta_1} =  a_1 \\cos{\\theta_1} \\qquad a_1 = -(1+m) $$\n",
    "\n",
    "$$ \\mathcal{E}_{\\theta_2} =  a_2 \\cos{\\theta_2} \\qquad a_2 = -m l $$\n",
    "\n",
    "$$ \\mathcal{E}_{\\dot{\\theta}_1} =  a_3 \\dot{\\theta}_1^2 \\qquad a_3 = \\frac{1}{2} (1+m) $$\n",
    "\n",
    "$$ \\mathcal{E}_{\\dot{\\theta}_2} =  a_4 \\dot{\\theta}_2^2 \\qquad a_4 = \\frac{1}{2} m l^2 $$\n",
    "\n",
    "$$ \\mathcal{E}_{rel} =  a_5 \\dot{\\theta}_1 \\dot{\\theta}_2 \\cos{(\\theta_1-\\theta_2)} \\qquad a_5 = m l $$\n",
    "\n",
    "$$ \\implies \\mathcal{E} = \\mathcal{E}_{\\theta_1} + \\mathcal{E}_{\\theta_2} + \\mathcal{E}_{\\dot{\\theta}_1} + \\mathcal{E}_{\\dot{\\theta}_2} + \\mathcal{E}_{rel} $$\n",
    "\n",
    "In the inner loop cicle, we shal be able to solve the following expression for $\\theta_2$:\n",
    "\n",
    "$$ a_4 \\dot{\\theta}_2^2 + a_5 \\dot{\\theta}_1 \\dot{\\theta}_2 \\cos{(\\theta_1-\\theta_2)} - \\mathcal{E}_{lef} = 0 $$\n",
    "\n",
    "Based on that, we can compute the derivate of the function in respect to $\\theta_2$.\n",
    "\n",
    ", where $\\mathcal{E}_{lef} = \\mathcal{E} - \\mathcal{E}_{\\theta_1} - \\mathcal{E}_{\\theta_2} - \\mathcal{E}_{\\dot{\\theta}_1}$ and $\\theta_1$, $\\theta_2$, "
   ]
  },
  {
   "cell_type": "code",
   "execution_count": 11,
   "metadata": {},
   "outputs": [
    {
     "data": {
      "text/plain": [
       "energy_section (generic function with 1 method)"
      ]
     },
     "execution_count": 11,
     "metadata": {},
     "output_type": "execute_result"
    }
   ],
   "source": [
    "function energy_section(\n",
    "        p::Parameters,\n",
    "        E::Float64;\n",
    "        div::Tuple{Int, Int, Int} = div)::StateVector\n",
    "    \n",
    "    m = p.m\n",
    "    L = p.L\n",
    "    \n",
    "    a1 = -(1+m)\n",
    "    a2 = -m*L\n",
    "    a3 = (1/2)*(1+m)\n",
    "    a4 = (1/2)*m*L^2\n",
    "    a5 = m*L\n",
    "    \n",
    "    state_vec = Vector{State}(undef, 2*div[1]*div[2]*div[3])\n",
    "    \n",
    "    if E <= a1+a2\n",
    "        @error \"There will be no states with this energy, try one larger than $(a1+a2)\"\n",
    "        return StateVector(state_vec)\n",
    "    end\n",
    "    \n",
    "    # Calculating θ1max\n",
    "    θ1max = E > -a1 ?  Float64(π) : acos(E/a1)\n",
    "    \n",
    "    i = 0\n",
    "    j = 0\n",
    "    for θ1_0 in LinRange(0, θ1max, div[1])\n",
    "        # θ1 defined\n",
    "        Eθ1_0 = a1*cos(θ1_0)\n",
    "        Elef = E - Eθ1_0\n",
    "        θ2max = Elef > -a2 ?  Float64(π) : 0.99*acos(Elef/a2)\n",
    "        \n",
    "        for θ2_0 in LinRange(0, θ2max, div[2])\n",
    "            # θ1 and θ2 defined\n",
    "            Eθ2_0 = a2*cos(θ2_0)\n",
    "            Elef = E - Eθ1_0 - Eθ2_0\n",
    "            ω1max = 0.99*sqrt(Elef/a3)\n",
    "            \n",
    "            for ω1_0 in LinRange(0, ω1max, div[3])\n",
    "                # θ1, θ2 and ω1 defined\n",
    "                Eω1_0 = a3*ω1_0^2\n",
    "                Elef = E - Eθ1_0 - Eθ2_0 - Eω1_0\n",
    "                \n",
    "                try\n",
    "                    A = a4\n",
    "                    B = a5*ω1_0*cos(θ1_0-θ2_0)\n",
    "                    C = -Elef\n",
    "                    Δ = B^2 - 4*A*C\n",
    "                    ω2_01 = (-B+sqrt(Δ))/(2*A)\n",
    "                    ω2_02 = (-B-sqrt(Δ))/(2*A)\n",
    "                    \n",
    "                    state1 = State(θ1_0, θ2_0, ω1_0, ω2_01)\n",
    "                    state2 = State(θ1_0, θ2_0, ω1_0, ω2_02)\n",
    "                \n",
    "                    i += 1\n",
    "                    state_vec[i] = state1\n",
    "                    i += 1\n",
    "                    state_vec[i] = state2\n",
    "                catch err\n",
    "                    j += 2\n",
    "                    print(Δ)\n",
    "                end\n",
    "                \n",
    "            end\n",
    "        end\n",
    "    end\n",
    "    \n",
    "    state_vec = state_vec[1:i]\n",
    "                \n",
    "    return StateVector(state_vec)\n",
    "end"
   ]
  },
  {
   "cell_type": "markdown",
   "metadata": {},
   "source": [
    "# Poincaré Section"
   ]
  },
  {
   "cell_type": "code",
   "execution_count": 12,
   "metadata": {},
   "outputs": [
    {
     "data": {
      "text/plain": [
       "PhasePath"
      ]
     },
     "execution_count": 12,
     "metadata": {},
     "output_type": "execute_result"
    }
   ],
   "source": [
    "function PhasePath(\n",
    "        p::Parameters,\n",
    "        init_state::State;\n",
    "        tfinal::Float64 = std_tfinal)::PhasePath\n",
    "\n",
    "    u0 = [init_state.θ1, init_state.θ2, init_state.ω1, init_state.ω2]\n",
    "    tspan = (0.0, tfinal)\n",
    "    \n",
    "    problem = ODEProblem(doublependulum, u0, tspan, p, reltol=integrator_reltol, atol=integrator_atol)\n",
    "    sol = solve(problem)\n",
    "    \n",
    "    θ1arr = sol[1,:]; θ2arr = sol[2,:]\n",
    "    ω1arr = sol[3,:]; ω2arr = sol[4,:]\n",
    "    t = sol.t\n",
    "    \n",
    "    # Let's construct the object now\n",
    "    path = Vector{State}(undef, length(θ1arr))\n",
    "    \n",
    "    for i in 1:length(θ1arr)\n",
    "        path[i] = State(θ1arr[i], θ2arr[i], ω1arr[i], ω2arr[i])\n",
    "    end\n",
    "    \n",
    "    return PhasePath(path, t)\n",
    "end"
   ]
  },
  {
   "cell_type": "code",
   "execution_count": 13,
   "metadata": {},
   "outputs": [
    {
     "data": {
      "text/plain": [
       "PoincareSection"
      ]
     },
     "execution_count": 13,
     "metadata": {},
     "output_type": "execute_result"
    }
   ],
   "source": [
    "function PoincareSection(\n",
    "        p::Parameters,\n",
    "        E::Float64;\n",
    "        div::Tuple{Int, Int, Int} = div,\n",
    "        tfinal::Float64 = std_tfinal)::PoincareSection\n",
    "    \n",
    "    state_arr = energy_section(p, E, div = div)\n",
    "    \n",
    "    size = length(state_arr)\n",
    "    space = Array{PhasePath, 1}(undef, 0)\n",
    "    \n",
    "    prog = Progress(size)\n",
    "    @threads for init_state in state_arr\n",
    "        push!(space, PhasePath(p, init_state, tfinal=tfinal))\n",
    "        next!(prog)\n",
    "    end\n",
    "    \n",
    "    section = Vector{State}(undef, 0)\n",
    "    for path in space\n",
    "        for i in 1:length(path)-1\n",
    "            θ1_1 = rem2pi(path[i].θ1, RoundNearest)\n",
    "            θ2_1 = rem2pi(path[i].θ2, RoundNearest)\n",
    "            ω1_1 = path[i].ω1\n",
    "            ω1_1 = path[i].ω1\n",
    "            state1 = State(θ1_1, θ2_1, ω1_1, ω1_1)\n",
    "            \n",
    "            θ1_2 = rem2pi(path[i+1].θ1, RoundNearest)\n",
    "            θ2_2 = rem2pi(path[i+1].θ2, RoundNearest)\n",
    "            ω1_2 = path[i+1].ω1\n",
    "            ω1_2 = path[i+1].ω1\n",
    "            state2 = State(θ1_2, θ2_2, ω1_2, ω1_2)\n",
    "            if θ1_1 <= 0. && θ1_2 >= 0.\n",
    "                state = State(((state1*state1.θ1-state2*state2.θ1)/(state2.θ1-state1.θ1))...)\n",
    "                push!(section, state)\n",
    "            end\n",
    "        end\n",
    "    end\n",
    "    \n",
    "    return PoincareSection(section, E)\n",
    "end"
   ]
  },
  {
   "cell_type": "code",
   "execution_count": 14,
   "metadata": {},
   "outputs": [
    {
     "data": {
      "text/plain": [
       "PoincareSection"
      ]
     },
     "execution_count": 14,
     "metadata": {},
     "output_type": "execute_result"
    }
   ],
   "source": [
    "function PoincareSection(\n",
    "        p::Parameters,\n",
    "        E::Float64;\n",
    "        div::Tuple{Int, Int, Int} = div,\n",
    "        tfinal::Float64 = std_tfinal)::PoincareSection\n",
    "    \n",
    "    state_arr = energy_section(p, E, div = div)\n",
    "    \n",
    "    size = length(state_arr)\n",
    "    space = Array{PhasePath, 1}(undef, 0)\n",
    "    \n",
    "    prog = Progress(size)\n",
    "    @threads for init_state in state_arr\n",
    "        push!(space, PhasePath(p, init_state, tfinal=tfinal))\n",
    "        next!(prog)\n",
    "    end\n",
    "    \n",
    "    section = Vector{State}(undef, 0)\n",
    "    for path in space\n",
    "        for i in 1:length(path)-1\n",
    "            if path[i].θ1 <= 0. && path[i+1].θ1 >= 0.\n",
    "                state = State(((path[i]*path[i+1].θ1-path[i+1]*path[i].θ1)/(path[i+1].θ1-path[i].θ1))...)\n",
    "                push!(section, state)\n",
    "            end\n",
    "        end\n",
    "    end\n",
    "    \n",
    "    return PoincareSection(section, E)\n",
    "end"
   ]
  },
  {
   "cell_type": "code",
   "execution_count": 15,
   "metadata": {},
   "outputs": [
    {
     "data": {
      "text/plain": [
       "lyapunov (generic function with 1 method)"
      ]
     },
     "execution_count": 15,
     "metadata": {},
     "output_type": "execute_result"
    }
   ],
   "source": [
    "function lyapunov(\n",
    "        p::Parameters,\n",
    "        init_state::State;\n",
    "        δZ_0::State = std_δZ_0,\n",
    "        tfinal::Float64 = std_tfinal)::Tuple{Float64,Float64}\n",
    "    \n",
    "    init_state1 = init_state\n",
    "    init_state2 = init_state1 + δZ_0\n",
    "    \n",
    "    λ_max = 0.\n",
    "    t_max = 0.\n",
    "        \n",
    "    u0_1 = [init_state1.θ1, init_state1.θ2, init_state1.ω1, init_state1.ω2]\n",
    "    u0_2 = [init_state2.θ1, init_state2.θ2, init_state2.ω1, init_state2.ω2]\n",
    "    tspan = (0.0, tfinal)\n",
    "    \n",
    "    problem1 = ODEProblem(doublependulum!, u0_1, tspan, p, reltol=integrator_reltol, atol=integrator_atol)\n",
    "    problem2 = ODEProblem(doublependulum!, u0_2, tspan, p, reltol=integrator_reltol, atol=integrator_atol)\n",
    "        \n",
    "    sol1 = solve(problem1, alg_hints=[:stiff])\n",
    "    sol2 = solve(problem2, alg_hints=[:stiff])\n",
    "    \n",
    "    \n",
    "    h1 = 0.001\n",
    "    h2 = 0.00001\n",
    "    \n",
    "    for t in h1:h1:tfinal\n",
    "        δZ_f = sol1(t)-sol2(t)\n",
    "        λ = (1/t)*log(δZ_f/δZ_0)\n",
    "        \n",
    "        if λ > λ_max\n",
    "            λ_max = λ\n",
    "            t_max = t\n",
    "        end\n",
    "    end\n",
    "    \n",
    "    for t in t_max-(h1/2):h2:t_max+(h1/2)\n",
    "        δZ_f = sol1(t)-sol2(t)\n",
    "        λ = (1/t)*log(norm(δZ_f)/norm(δZ_0))\n",
    "        \n",
    "        if λ > λ_max\n",
    "            λ_max = λ\n",
    "            t_max = t\n",
    "        end\n",
    "    end\n",
    "\n",
    "    return (λ_max, t_max)\n",
    "end"
   ]
  },
  {
   "cell_type": "markdown",
   "metadata": {},
   "source": [
    "# Correlation Dimension"
   ]
  },
  {
   "cell_type": "markdown",
   "metadata": {},
   "source": [
    "$$ C(r) = \\frac{1}{N^2} \\sum_i \\sum_j H(r - |x_i - x_j|) $$\n",
    "$$ d = \\frac{\\log (C(r))}{\\log(r)} $$"
   ]
  },
  {
   "cell_type": "code",
   "execution_count": 16,
   "metadata": {},
   "outputs": [
    {
     "data": {
      "text/plain": [
       "correlationdimension (generic function with 1 method)"
      ]
     },
     "execution_count": 16,
     "metadata": {},
     "output_type": "execute_result"
    }
   ],
   "source": [
    "function correlationdimension(\n",
    "        section::PoincareSection;\n",
    "        r::Float64 = 1e-10)\n",
    "    \n",
    "    N = size(section)[1]\n",
    "    n = 0\n",
    "    \n",
    "    for x_i in section, x_j in section\n",
    "        x = x_i - x_j\n",
    "        dist = sqrt(x.θ2^2 + x.ω2^2)\n",
    "        if dist <= r\n",
    "            n += 1\n",
    "        end\n",
    "    end\n",
    "    \n",
    "    C = n/N^2\n",
    "    d = log(C)/log(r)\n",
    "    \n",
    "    return d\n",
    "end"
   ]
  },
  {
   "cell_type": "markdown",
   "metadata": {},
   "source": [
    "According to https://mathworld.wolfram.com/CorrelationDimension.html, to estimate tha dimension of an $M$-dimensional system with accuracy $(1-Q)$ requires $N_{min}$ data points\n",
    "\n",
    "$$ N_{min} \\ge \\left[ \\frac{R (2-Q)}{2 (1-Q)} \\right]^M"
   ]
  },
  {
   "cell_type": "code",
   "execution_count": 12,
   "metadata": {},
   "outputs": [
    {
     "data": {
      "text/plain": [
       "nmin (generic function with 1 method)"
      ]
     },
     "execution_count": 12,
     "metadata": {},
     "output_type": "execute_result"
    }
   ],
   "source": [
    "function nmin(Q::Float64, M::Float64, R::Float64)::Int\n",
    "    Nmin = ((R*(2-Q)/(2*(1-Q)))^M)\n",
    "    return Nmin\n",
    "end"
   ]
  },
  {
   "cell_type": "markdown",
   "metadata": {},
   "source": [
    "## Testing the algorithm"
   ]
  },
  {
   "cell_type": "code",
   "execution_count": null,
   "metadata": {},
   "outputs": [],
   "source": [
    "function buckledbean(\n",
    "    u::Array{Float64, 1},\n",
    "    p::Parameters,\n",
    "    t::Float64)\n",
    "\n",
    "    \n",
    "    \n",
    "end"
   ]
  },
  {
   "cell_type": "markdown",
   "metadata": {},
   "source": [
    "# Time to flip"
   ]
  },
  {
   "cell_type": "markdown",
   "metadata": {},
   "source": [
    "Just having some fun trying to replicate a map i found on Wikipedia."
   ]
  },
  {
   "cell_type": "code",
   "execution_count": 17,
   "metadata": {},
   "outputs": [
    {
     "data": {
      "text/plain": [
       "timetoflip (generic function with 1 method)"
      ]
     },
     "execution_count": 17,
     "metadata": {},
     "output_type": "execute_result"
    }
   ],
   "source": [
    "function timetoflip(\n",
    "        p::Parameters,\n",
    "        init_state::State;\n",
    "        tfinal::Float64 = 10000)\n",
    "    \n",
    "    u0 = [init_state.θ1, init_state.θ2, init_state.ω1, init_state.ω2]\n",
    "    tspan = (0.0, 2*tfinal)\n",
    "   \n",
    "    problem = ODEProblem(doublependulum, u0, tspan, p)\n",
    "    \n",
    "    integrator = init(problem, :auto)\n",
    "    \n",
    "    step!(integrator)\n",
    "    while abs(integrator.u[1]) < 2π || abs(integrator.u[1]) < 2π || integrator.t < tfinal\n",
    "        step!(integrator)\n",
    "    end\n",
    "    \n",
    "    t0 = integrator.tprev\n",
    "    t1 = integrator.t\n",
    "    \n",
    "    if abs(integrator.u[1]) < 2π\n",
    "        x0 = integrator.uprev[1]\n",
    "        x1 = integrator.u[1]\n",
    "    elseif abs(integrator.u[2]) < 2π\n",
    "        x0 = integrator.uprev[2]\n",
    "        x1 = integrator.u[2]\n",
    "    else\n",
    "        @error \"You should not be seeing this\"\n",
    "    end\n",
    "    \n",
    "    t = y0 + (2π-x0)*((y1-y0)/(x1-x0))\n",
    "    return t\n",
    "end"
   ]
  },
  {
   "cell_type": "code",
   "execution_count": 18,
   "metadata": {},
   "outputs": [
    {
     "ename": "LoadError",
     "evalue": "\u001b[91mMethodError: no method matching #timetoflip#9(::Int64, ::typeof(timetoflip), ::Parameters, ::State)\u001b[39m\n\u001b[91m\u001b[0mClosest candidates are:\u001b[39m\n\u001b[91m\u001b[0m  #timetoflip#9(\u001b[91m::Float64\u001b[39m, ::typeof(timetoflip), ::Parameters, ::State) at In[17]:1\u001b[39m",
     "output_type": "error",
     "traceback": [
      "\u001b[91mMethodError: no method matching #timetoflip#9(::Int64, ::typeof(timetoflip), ::Parameters, ::State)\u001b[39m\n\u001b[91m\u001b[0mClosest candidates are:\u001b[39m\n\u001b[91m\u001b[0m  #timetoflip#9(\u001b[91m::Float64\u001b[39m, ::typeof(timetoflip), ::Parameters, ::State) at In[17]:1\u001b[39m",
      "",
      "Stacktrace:",
      " [1] timetoflip(::Parameters, ::State) at .\\In[17]:6",
      " [2] top-level scope at In[18]:1",
      " [3] include_string(::Function, ::Module, ::String, ::String) at .\\loading.jl:1091"
     ]
    }
   ],
   "source": [
    "timetoflip(Parameters(1,1), State(1,1,0,0))"
   ]
  },
  {
   "cell_type": "markdown",
   "metadata": {},
   "source": [
    "# Ploting"
   ]
  },
  {
   "cell_type": "code",
   "execution_count": 19,
   "metadata": {},
   "outputs": [
    {
     "data": {
      "text/plain": [
       "getω2arr (generic function with 1 method)"
      ]
     },
     "execution_count": 19,
     "metadata": {},
     "output_type": "execute_result"
    }
   ],
   "source": [
    "function getθ1arr(path::AbstractVector{State})::Vector{Float64}\n",
    "    arr = Vector{Float64}(undef, length(path))\n",
    "    for i in 1:length(path)\n",
    "        arr[i] = path[i].θ1\n",
    "    end\n",
    "    return arr\n",
    "end\n",
    "\n",
    "function getθ2arr(path::AbstractVector{State})::Vector{Float64}\n",
    "    arr = Vector{Float64}(undef, length(path))\n",
    "    for i in 1:length(path)\n",
    "        arr[i] = path[i].θ2\n",
    "    end\n",
    "    return arr\n",
    "end\n",
    "\n",
    "function getω1arr(path::AbstractVector{State})::Vector{Float64}\n",
    "    arr = Vector{Float64}(undef, length(path))\n",
    "    for i in 1:length(path)\n",
    "        arr[i] = path[i].ω1\n",
    "    end\n",
    "    return arr\n",
    "end\n",
    "\n",
    "function getω2arr(path::AbstractVector{State})::Vector{Float64}\n",
    "    arr = Vector{Float64}(undef, length(path))\n",
    "    for i in 1:length(path)\n",
    "        arr[i] = path[i].ω2\n",
    "    end\n",
    "    return arr\n",
    "end"
   ]
  },
  {
   "cell_type": "code",
   "execution_count": 20,
   "metadata": {},
   "outputs": [
    {
     "data": {
      "text/plain": [
       "plot (generic function with 2 methods)"
      ]
     },
     "execution_count": 20,
     "metadata": {},
     "output_type": "execute_result"
    }
   ],
   "source": [
    "function plot(path::PhasePath)\n",
    "    θ1arr = getθ1arr(path)\n",
    "    θ2arr = getθ2arr(path)\n",
    "    ω1arr = getω1arr(path)\n",
    "    ω2arr = getω2arr(path)\n",
    "    \n",
    "    θplot = plot(path.t, [θ1arr θ2arr], title = \"Angular positions\", label = [\"θ1\" \"θ2\"])\n",
    "    ωplot = plot(path.t, [ω1arr ω2arr], title = \"Angular velocities\", label = [\"ω1\" \"ω2\"])\n",
    "    \n",
    "    plot(θplot, ωplot, layout=(2,1), size=(800,600))\n",
    "end\n",
    "\n",
    "function plot(section::PoincareSection)\n",
    "    arrX = getθ2arr(section)\n",
    "    arrY = getω2arr(section)\n",
    "    xlabel = \"θ2\"; ylabel = \"ω2\"\n",
    "        \n",
    "    scatter(arrX, arrY, title = \"Section\", marker = (1, 1, :black), size=(800,600), xlabel=xlabel, ylabel=ylabel, fmt = :png)\n",
    "end"
   ]
  },
  {
   "cell_type": "markdown",
   "metadata": {},
   "source": [
    "# Preparating for Hausdorff Dimension"
   ]
  },
  {
   "cell_type": "code",
   "execution_count": 21,
   "metadata": {},
   "outputs": [
    {
     "data": {
      "text/plain": [
       "hausdorff_img (generic function with 1 method)"
      ]
     },
     "execution_count": 21,
     "metadata": {},
     "output_type": "execute_result"
    }
   ],
   "source": [
    "function hausdorff_img(section::PoincareSection,\n",
    "    file_name::String)\n",
    "    arrX = getθ2arr(section)\n",
    "    arrY = getω2arr(section)\n",
    "    xlabel = \"θ2\"; ylabel = \"ω2\"\n",
    "        \n",
    "    fig = scatter(arrX, arrY, marker = (0.2, 0.2, :black), markershape = :circle, axis=([], false), background_color = :transparent, foreground_color=:black, legend = false, size=(3000,3000), grid=false, fmt = :png)\n",
    "    savefig(fig, file_name)\n",
    "end"
   ]
  },
  {
   "cell_type": "markdown",
   "metadata": {},
   "source": [
    "# Replicating the sections"
   ]
  },
  {
   "cell_type": "markdown",
   "metadata": {},
   "source": [
    "## Obtained sections with complete energy sectioning"
   ]
  },
  {
   "cell_type": "markdown",
   "metadata": {},
   "source": [
    "The arcticle published by Stachoviak uses the following parameters:"
   ]
  },
  {
   "cell_type": "code",
   "execution_count": 22,
   "metadata": {},
   "outputs": [
    {
     "data": {
      "text/plain": [
       "Parameters(0.3333333333333333, 0.5)"
      ]
     },
     "execution_count": 22,
     "metadata": {},
     "output_type": "execute_result"
    }
   ],
   "source": [
    "m1 = 3.; m2 = 1.\n",
    "L1 = 2.; L2 = 1.\n",
    "g = 1.;\n",
    "\n",
    "p = Parameters(m2/m1, L2/L1)"
   ]
  },
  {
   "cell_type": "code",
   "execution_count": 23,
   "metadata": {},
   "outputs": [
    {
     "data": {
      "text/plain": [
       "4-element Array{Float64,1}:\n",
       " -1.4983333333333333\n",
       " -1.1683333333333332\n",
       "  1.165\n",
       "  1.4983333333333333"
      ]
     },
     "execution_count": 23,
     "metadata": {},
     "output_type": "execute_result"
    }
   ],
   "source": [
    "E = [-9. + 0.01\n",
    "     -7. - 0.01\n",
    "      7. - 0.01\n",
    "      9. - 0.01]/(g*m1*L1)"
   ]
  },
  {
   "cell_type": "code",
   "execution_count": 24,
   "metadata": {
    "scrolled": true
   },
   "outputs": [
    {
     "name": "stderr",
     "output_type": "stream",
     "text": [
      "\u001b[32mProgress: 100%|█████████████████████████████████████████| Time: 0:01:44\u001b[39m\n"
     ]
    },
    {
     "name": "stdout",
     "output_type": "stream",
     "text": [
      "104.192123 seconds (1.28 G allocations: 107.514 GiB, 32.94% gc time)\n"
     ]
    },
    {
     "data": {
      "text/plain": [
       "165810-element PoincareSection:\n",
       " [0.0, 1.0128614796161817, 0.6313403976555175, -0.36755857076786935]\n",
       " [0.0, -1.5117237047893295, 0.39069392380319484, 1.2092587160809194]\n",
       " [0.0, 0.625279569843921, 0.7312757153095053, -0.9832433186692296]\n",
       " [0.0, -1.2742730122119788, 0.260045978634052, 1.824118233847159]\n",
       " [0.0, 0.020404505619095223, 0.8096319314726084, -1.393597115602298]\n",
       " [0.0, 1.2970034844565828, 0.27091681320196126, 1.8250441989437594]\n",
       " [0.0, -0.5947128937255123, 0.7350434929737989, -1.004533747836708]\n",
       " [0.0, 1.5194297467157856, 0.3909207936600269, 1.2308220762411541]\n",
       " [0.0, -0.9971573057693456, 0.6368865256771102, -0.40343330624861296]\n",
       " [0.0, 1.4449995240295652, 0.4833682749962598, 0.6588167741849696]\n",
       " [0.0, -1.3277733677248167, 0.5400448224735838, 0.2967593616271273]\n",
       " [0.0, 1.152122066918342, 0.5887991487471096, -0.06665105434618429]\n",
       " [0.0, -1.4967064415170301, 0.42641929553909563, 0.9782100112765592]\n",
       " ⋮\n",
       " [0.0, 2.3914456515794016, 0.22634929259910494, 0.8780068167142019]\n",
       " [0.0, 1.1790929291850305, 0.5878233709233625, -0.7392195186958684]\n",
       " [0.0, -1.6417267201883134, 0.47196041104875613, -0.018465219178655227]\n",
       " [0.0, -2.431144877109006, 0.18313959973496002, 0.9330843578213428]\n",
       " [0.0, 2.437157650335148, 0.18320632268808923, 0.9499133813285654]\n",
       " [0.0, 1.6957145998341598, 0.45843299566337076, 0.07225544655785919]\n",
       " [0.0, -1.1092184498493112, 0.6075766482399324, -0.8534227804444597]\n",
       " [0.0, -2.367258073878318, 0.2294755494163297, 0.8778306038464311]\n",
       " [0.0, 2.2487926592970884, 0.1520801796576173, 1.2475364499127404]\n",
       " [0.0, 0.419765109009413, 0.31766943113654783, -3.073571808806997]\n",
       " [0.0, 2.0313086086825605, 0.3630333890086789, 0.6063775614516496]\n",
       " [0.0, -0.3534578399793066, 0.7808789294095843, -1.7289274137768946]"
      ]
     },
     "execution_count": 24,
     "metadata": {},
     "output_type": "execute_result"
    }
   ],
   "source": [
    "@time section2 = PoincareSection(p, E[2])"
   ]
  },
  {
   "cell_type": "code",
   "execution_count": 25,
   "metadata": {
    "scrolled": false
   },
   "outputs": [
    {
     "data": {
      "image/png": "[encoded data removed]"
     },
     "execution_count": 25,
     "metadata": {},
     "output_type": "execute_result"
    }
   ],
   "source": [
    "plot(section2)"
   ]
  },
  {
   "cell_type": "code",
   "execution_count": 26,
   "metadata": {
    "scrolled": true
   },
   "outputs": [
    {
     "name": "stdout",
     "output_type": "stream",
     "text": [
      " 53.878875 seconds\n"
     ]
    },
    {
     "data": {
      "text/plain": [
       "0.5219610719301437"
      ]
     },
     "execution_count": 26,
     "metadata": {},
     "output_type": "execute_result"
    }
   ],
   "source": [
    "@time correlationdimension(section2)"
   ]
  },
  {
   "cell_type": "markdown",
   "metadata": {},
   "source": [
    "## Section with paper"
   ]
  },
  {
   "cell_type": "code",
   "execution_count": null,
   "metadata": {},
   "outputs": [],
   "source": []
  },
  {
   "cell_type": "code",
   "execution_count": null,
   "metadata": {},
   "outputs": [],
   "source": [
    "unction PoincareSection_paper(\n",
    "        p::Parameters,\n",
    "        E::Float64;\n",
    "        div::Tuple{Int, Int, Int} = div,\n",
    "        tfinal::Float64 = std_tfinal)::PoincareSection\n",
    "    \n",
    "    state_arr = energy_section(p, E, div = div)\n",
    "    \n",
    "    size = length(state_arr)\n",
    "    space = Array{PhasePath, 1}(undef, 0)\n",
    "    \n",
    "    prog = Progress(size)\n",
    "    @threads for init_state in state_arr\n",
    "        push!(space, PhasePath(p, init_state, tfinal=tfinal))\n",
    "        next!(prog)\n",
    "    end\n",
    "    \n",
    "    section = Vector{State}(undef, 0)\n",
    "    for path in space\n",
    "        for i in 1:length(path)-1\n",
    "            θ1_1 = rem2pi(path[i].θ1, RoundNearest)\n",
    "            θ2_1 = rem2pi(path[i].θ2, RoundNearest)\n",
    "            ω1_1 = path[i].ω1\n",
    "            ω1_1 = path[i].ω1\n",
    "            state1 = State(θ1_1, θ2_1, ω1_1, ω1_1)\n",
    "            \n",
    "            θ1_2 = rem2pi(path[i+1].θ1, RoundNearest)\n",
    "            θ2_2 = rem2pi(path[i+1].θ2, RoundNearest)\n",
    "            ω1_2 = path[i+1].ω1\n",
    "            ω1_2 = path[i+1].ω1\n",
    "            state2 = State(θ1_2, θ2_2, ω1_2, ω1_2)\n",
    "            if θ1_1 <= 0. && θ1_2 >= 0.\n",
    "                state = State(((state1*state1.θ1-state2*state2.θ1)/(state2.θ1-state1.θ1))...)\n",
    "                push!(section, state)\n",
    "            end\n",
    "        end\n",
    "    end\n",
    "    \n",
    "    return PoincareSection(section, E)\n",
    "end"
   ]
  },
  {
   "cell_type": "markdown",
   "metadata": {},
   "source": [
    "# Heatmap"
   ]
  },
  {
   "cell_type": "code",
   "execution_count": 27,
   "metadata": {},
   "outputs": [
    {
     "name": "stderr",
     "output_type": "stream",
     "text": [
      "\u001b[32mProgress: 100%|█████████████████████████████████████████| Time: 0:02:40\u001b[39m\n",
      "\u001b[32mProgress: 100%|█████████████████████████████████████████| Time: 0:00:47\u001b[39m\n",
      "\u001b[32mProgress: 100%|█████████████████████████████████████████| Time: 0:00:41\u001b[39m\n",
      "\u001b[32mProgress: 100%|█████████████████████████████████████████| Time: 0:00:41\u001b[39m\n",
      "\u001b[32mProgress: 100%|█████████████████████████████████████████| Time: 0:00:41\u001b[39m\n",
      "\u001b[32mProgress: 100%|█████████████████████████████████████████| Time: 0:00:41\u001b[39m\n",
      "\u001b[32mProgress: 100%|█████████████████████████████████████████| Time: 0:00:41\u001b[39m\n",
      "\u001b[32mProgress: 100%|█████████████████████████████████████████| Time: 0:00:40\u001b[39m\n",
      "\u001b[32mProgress: 100%|█████████████████████████████████████████| Time: 0:00:42\u001b[39m\n",
      "\u001b[32mProgress: 100%|█████████████████████████████████████████| Time: 0:00:42\u001b[39m\n",
      "\u001b[32mProgress: 100%|█████████████████████████████████████████| Time: 0:04:40\u001b[39m\n",
      "\u001b[32mProgress: 100%|█████████████████████████████████████████| Time: 0:01:56\u001b[39m\n",
      "\u001b[32mProgress: 100%|█████████████████████████████████████████| Time: 0:01:49\u001b[39m\n",
      "\u001b[32mProgress: 100%|█████████████████████████████████████████| Time: 0:01:54\u001b[39m\n",
      "\u001b[32mProgress: 100%|█████████████████████████████████████████| Time: 0:01:54\u001b[39m\n",
      "\u001b[32mProgress: 100%|█████████████████████████████████████████| Time: 0:01:54\u001b[39m\n",
      "\u001b[32mProgress: 100%|█████████████████████████████████████████| Time: 0:01:59\u001b[39m\n",
      "\u001b[32mProgress: 100%|█████████████████████████████████████████| Time: 0:02:05\u001b[39m\n",
      "\u001b[32mProgress: 100%|█████████████████████████████████████████| Time: 0:02:08\u001b[39m\u0000\u0000\u0000\u0000\u0000\u0000\u0000\u0000\u0000\u0000\u0000\u0000\u0000\u0000\u0000\u0000\u0000\u0000\u0000\u0000\u0000\u0000\u0000\u0000\u0000\u0000\u0000\u0000\u0000\u0000\u0000\u0000\u0000\u0000\u0000\u0000\u0000\u0000\u0000\u0000\u0000\u0000\u0000\u0000\u0000\u0000\u0000\u0000\u0000\u0000\u0000\u0000\u0000\u0000\u0000\u0000\u0000\u0000\u0000\u0000\u0000\u0000\u0000\u0000\u0000\u0000\u0000\u0000\u0000\u0000\u0000\u0000\u0000\u0000\u0000\u0000\n",
      "\u001b[32mProgress: 100%|█████████████████████████████████████████| Time: 0:02:08\u001b[39m\n",
      "\u001b[32mProgress: 100%|█████████████████████████████████████████| Time: 0:06:00\u001b[39m\n",
      "\u001b[32mProgress: 100%|█████████████████████████████████████████| Time: 0:02:26\u001b[39m\n",
      "\u001b[32mProgress: 100%|█████████████████████████████████████████| Time: 0:02:25\u001b[39m\n",
      "\u001b[32mProgress: 100%|█████████████████████████████████████████| Time: 0:02:37\u001b[39m\n",
      "\u001b[32mProgress: 100%|█████████████████████████████████████████| Time: 0:02:39\u001b[39m\n",
      "\u001b[32mProgress: 100%|█████████████████████████████████████████| Time: 0:02:47\u001b[39m\n",
      "\u001b[32mProgress: 100%|█████████████████████████████████████████| Time: 0:02:57\u001b[39m\n",
      "\u001b[32mProgress: 100%|█████████████████████████████████████████| Time: 0:02:50\u001b[39m\n",
      "\u001b[32mProgress: 100%|█████████████████████████████████████████| Time: 0:02:54\u001b[39m\n",
      "\u001b[32mProgress: 100%|█████████████████████████████████████████| Time: 0:03:03\u001b[39m\n",
      "\u001b[32mProgress: 100%|█████████████████████████████████████████| Time: 0:06:58\u001b[39m\n",
      "\u001b[32mProgress: 100%|█████████████████████████████████████████| Time: 0:02:57\u001b[39m\n",
      "\u001b[32mProgress: 100%|█████████████████████████████████████████| Time: 0:02:53\u001b[39m\n",
      "\u001b[32mProgress: 100%|█████████████████████████████████████████| Time: 0:03:08\u001b[39m\n",
      "\u001b[32mProgress: 100%|█████████████████████████████████████████| Time: 0:03:18\u001b[39m\n",
      "\u001b[32mProgress: 100%|█████████████████████████████████████████| Time: 0:03:33\u001b[39m\n",
      "\u001b[32mProgress: 100%|█████████████████████████████████████████| Time: 0:03:28\u001b[39m\u0000\u0000\u0000\u0000\u0000\u0000\u0000\u0000\u0000\u0000\u0000\u0000\u0000\u0000\u0000\u0000\u0000\u0000\u0000\u0000\u0000\u0000\u0000\u0000\u0000\u0000\u0000\u0000\u0000\u0000\u0000\u0000\u0000\u0000\u0000\u0000\u0000\u0000\u0000\u0000\u0000\u0000\u0000\u0000\u0000\u0000\u0000\u0000\u0000\u0000\u0000\u0000\u0000\u0000\u0000\u0000\u0000\u0000\u0000\u0000\u0000\u0000\u0000\u0000\u0000\u0000\u0000\u0000\u0000\u0000\u0000\u0000\u0000\u0000\u0000\n",
      "\u001b[32mProgress: 100%|█████████████████████████████████████████| Time: 0:03:50\u001b[39m\n",
      "\u001b[32mProgress: 100%|█████████████████████████████████████████| Time: 0:03:39\u001b[39m\n",
      "\u001b[32mProgress: 100%|█████████████████████████████████████████| Time: 0:03:49\u001b[39m\u0000\u0000\u0000\u0000\u0000\u0000\u0000\u0000\u0000\u0000\u0000\u0000\u0000\u0000\u0000\u0000\u0000\u0000\u0000\u0000\u0000\u0000\u0000\u0000\u0000\u0000\u0000\u0000\u0000\u0000\u0000\u0000\u0000\u0000\u0000\u0000\u0000\u0000\u0000\u0000\u0000\u0000\u0000\u0000\u0000\u0000\u0000\u0000\u0000\u0000\u0000\u0000\u0000\u0000\u0000\u0000\u0000\u0000\u0000\u0000\u0000\u0000\u0000\u0000\u0000\u0000\u0000\u0000\u0000\u0000\u0000\u0000\u0000\u0000\n",
      "\u001b[32mProgress: 100%|█████████████████████████████████████████| Time: 0:07:50\u001b[39m\n",
      "\u001b[32mProgress: 100%|█████████████████████████████████████████| Time: 0:03:28\u001b[39m\n",
      "\u001b[32mProgress: 100%|█████████████████████████████████████████| Time: 0:03:36\u001b[39m\n",
      "\u001b[32mProgress: 100%|█████████████████████████████████████████| Time: 0:03:46\u001b[39m\n",
      "\u001b[32mProgress: 100%|█████████████████████████████████████████| Time: 0:03:45\u001b[39m\n",
      "\u001b[32mProgress: 100%|█████████████████████████████████████████| Time: 0:03:58\u001b[39m\u001b[32mProgress:  96%|████████████████████████████████████████ |  ETA: 0:00:11\u001b[39m\n",
      "\u001b[32mProgress: 100%|█████████████████████████████████████████| Time: 0:04:17\u001b[39m\n",
      "\u001b[32mProgress: 100%|█████████████████████████████████████████| Time: 0:04:17\u001b[39m\n",
      "\u001b[32mProgress: 100%|█████████████████████████████████████████| Time: 0:04:22\u001b[39m\n",
      "\u001b[32mProgress: 100%|█████████████████████████████████████████| Time: 0:04:36\u001b[39m\u0000\u0000\u0000\u0000\u0000\u0000\u0000\u0000\u0000\u0000\u0000\u0000\u0000\u0000\u0000\u0000\u0000\u0000\u0000\u0000\u0000\u0000\u0000\u0000\u0000\u0000\u0000\u0000\u0000\u0000\u0000\u0000\u0000\u0000\u0000\u0000\u0000\u0000\u0000\u0000\u0000\u0000\u0000\u0000\u0000\u0000\u0000\u0000\u0000\u0000\u0000\u0000\u0000\u0000\u0000\u0000\u0000\u0000\u0000\u0000\u0000\u0000\u0000\u0000\u0000\u0000\u0000\u0000\u0000\u0000\u0000\u0000\u0000\u0000\u0000\u0000\u0000\n",
      "\u001b[32mProgress: 100%|█████████████████████████████████████████| Time: 0:08:38\u001b[39m\u0000\u0000\u0000\u0000\u0000\u0000\u0000\u0000\u0000\u0000\u0000\u0000\u0000\u0000\u0000\u0000\u0000\u0000\u0000\u0000\u0000\u0000\u0000\u0000\u0000\u0000\u0000\u0000\u0000\u0000\u0000\u0000\u0000\u0000\u0000\u0000\u0000\u0000\u0000\u0000\u0000\u0000\u0000\u0000\u0000\u0000\u0000\u0000\u0000\u0000\u0000\u0000\u0000\u0000\u0000\u0000\u0000\u0000\u0000\u0000\u0000\u0000\u0000\u0000\u0000\u0000\u0000\u0000\u0000\u0000\u0000\u0000\u0000\u0000\u0000\u0000\u0000\u0000\u0000\u0000\u0000\u0000\n",
      "\u001b[32mProgress: 100%|█████████████████████████████████████████| Time: 0:03:49\u001b[39m\n",
      "\u001b[32mProgress: 100%|█████████████████████████████████████████| Time: 0:04:00\u001b[39m\n",
      "\u001b[32mProgress: 100%|█████████████████████████████████████████| Time: 0:04:15\u001b[39m\n",
      "\u001b[32mProgress:  43%|██████████████████                       |  ETA: 0:02:28\u001b[39m"
     ]
    },
    {
     "ename": "LoadError",
     "evalue": "\u001b[91mTaskFailedException:\u001b[39m\n\u001b[91m\u001b[91mMethodError: no method matching doublependulum(::Array{Float64,1}, ::Parameters, ::ForwardDiff.Dual{ForwardDiff.Tag{SciMLBase.TimeDerivativeWrapper{ODEFunction{false,typeof(doublependulum),UniformScaling{Bool},Nothing,Nothing,Nothing,Nothing,Nothing,Nothing,Nothing,Nothing,Nothing,Nothing,Nothing,Nothing,typeof(SciMLBase.DEFAULT_OBSERVED),Nothing},Array{Float64,1},Parameters},Float64},Float64,1})\u001b[39m\u001b[39m\n\u001b[91m\u001b[91m\u001b[0mClosest candidates are:\u001b[39m\u001b[39m\n\u001b[91m\u001b[91m\u001b[0m  doublependulum(::Array{Float64,1}, ::Parameters, \u001b[91m::Float64\u001b[39m) at In[8]:1\u001b[39m\u001b[39m\n\u001b[91mStacktrace:\u001b[39m\n\u001b[91m [1] \u001b[1m(::ODEFunction{false,typeof(doublependulum),UniformScaling{Bool},Nothing,Nothing,Nothing,Nothing,Nothing,Nothing,Nothing,Nothing,Nothing,Nothing,Nothing,Nothing,typeof(SciMLBase.DEFAULT_OBSERVED),Nothing})\u001b[22m\u001b[1m(\u001b[22m::Array{Float64,1}, ::Vararg{Any,N} where N\u001b[1m)\u001b[22m at \u001b[1mC:\\Users\\isaac\\.julia\\packages\\SciMLBase\\x3z0g\\src\\scimlfunctions.jl:334\u001b[22m\u001b[39m\n\u001b[91m [2] \u001b[1m(::SciMLBase.TimeDerivativeWrapper{ODEFunction{false,typeof(doublependulum),UniformScaling{Bool},Nothing,Nothing,Nothing,Nothing,Nothing,Nothing,Nothing,Nothing,Nothing,Nothing,Nothing,Nothing,typeof(SciMLBase.DEFAULT_OBSERVED),Nothing},Array{Float64,1},Parameters})\u001b[22m\u001b[1m(\u001b[22m::ForwardDiff.Dual{ForwardDiff.Tag{SciMLBase.TimeDerivativeWrapper{ODEFunction{false,typeof(doublependulum),UniformScaling{Bool},Nothing,Nothing,Nothing,Nothing,Nothing,Nothing,Nothing,Nothing,Nothing,Nothing,Nothing,Nothing,typeof(SciMLBase.DEFAULT_OBSERVED),Nothing},Array{Float64,1},Parameters},Float64},Float64,1}\u001b[1m)\u001b[22m at \u001b[1mC:\\Users\\isaac\\.julia\\packages\\SciMLBase\\x3z0g\\src\\function_wrappers.jl:23\u001b[22m\u001b[39m\n\u001b[91m [3] \u001b[1mderivative\u001b[22m at \u001b[1mC:\\Users\\isaac\\.julia\\packages\\ForwardDiff\\tZ5o1\\src\\derivative.jl:14\u001b[22m [inlined]\u001b[39m\n\u001b[91m [4] \u001b[1mperform_step!\u001b[22m\u001b[1m(\u001b[22m::OrdinaryDiffEq.ODEIntegrator{CompositeAlgorithm{Tuple{Vern7,Rodas4{0,false,DefaultLinSolve,Val{:forward}}},OrdinaryDiffEq.AutoSwitchCache{Vern7,Rodas4{0,false,DefaultLinSolve,Val{:forward}},Rational{Int64},Int64}},false,Array{Float64,1},Nothing,Float64,Parameters,Float64,Float64,Float64,Float64,Array{Array{Float64,1},1},OrdinaryDiffEq.ODECompositeSolution{Float64,2,Array{Array{Float64,1},1},Nothing,Nothing,Array{Float64,1},Array{Array{Array{Float64,1},1},1},ODEProblem{Array{Float64,1},Tuple{Float64,Float64},false,Parameters,ODEFunction{false,typeof(doublependulum),UniformScaling{Bool},Nothing,Nothing,Nothing,Nothing,Nothing,Nothing,Nothing,Nothing,Nothing,Nothing,Nothing,Nothing,typeof(SciMLBase.DEFAULT_OBSERVED),Nothing},Base.Iterators.Pairs{Symbol,Float64,Tuple{Symbol,Symbol},NamedTuple{(:reltol, :atol),Tuple{Float64,Float64}}},SciMLBase.StandardODEProblem},CompositeAlgorithm{Tuple{Vern7,Rodas4{0,false,DefaultLinSolve,Val{:forward}}},OrdinaryDiffEq.AutoSwitchCache{Vern7,Rodas4{0,false,DefaultLinSolve,Val{:forward}},Rational{Int64},Int64}},OrdinaryDiffEq.CompositeInterpolationData{ODEFunction{false,typeof(doublependulum),UniformScaling{Bool},Nothing,Nothing,Nothing,Nothing,Nothing,Nothing,Nothing,Nothing,Nothing,Nothing,Nothing,Nothing,typeof(SciMLBase.DEFAULT_OBSERVED),Nothing},Array{Array{Float64,1},1},Array{Float64,1},Array{Array{Array{Float64,1},1},1},OrdinaryDiffEq.CompositeCache{Tuple{OrdinaryDiffEq.Vern7ConstantCache{OrdinaryDiffEq.Vern7Tableau{Float64,Float64}},OrdinaryDiffEq.Rodas4ConstantCache{SciMLBase.TimeDerivativeWrapper{ODEFunction{false,typeof(doublependulum),UniformScaling{Bool},Nothing,Nothing,Nothing,Nothing,Nothing,Nothing,Nothing,Nothing,Nothing,Nothing,Nothing,Nothing,typeof(SciMLBase.DEFAULT_OBSERVED),Nothing},Array{Float64,1},Parameters},SciMLBase.UDerivativeWrapper{ODEFunction{false,typeof(doublependulum),UniformScaling{Bool},Nothing,Nothing,Nothing,Nothing,Nothing,Nothing,Nothing,Nothing,Nothing,Nothing,Nothing,Nothing,typeof(SciMLBase.DEFAULT_OBSERVED),Nothing},Float64,Parameters},OrdinaryDiffEq.RodasTableau{Float64,Float64},Array{Float64,2},LU{Float64,Array{Float64,2}},DefaultLinSolve}},OrdinaryDiffEq.AutoSwitchCache{Vern7,Rodas4{0,false,DefaultLinSolve,Val{:forward}},Rational{Int64},Int64}}},DiffEqBase.DEStats},ODEFunction{false,typeof(doublependulum),UniformScaling{Bool},Nothing,Nothing,Nothing,Nothing,Nothing,Nothing,Nothing,Nothing,Nothing,Nothing,Nothing,Nothing,typeof(SciMLBase.DEFAULT_OBSERVED),Nothing},OrdinaryDiffEq.CompositeCache{Tuple{OrdinaryDiffEq.Vern7ConstantCache{OrdinaryDiffEq.Vern7Tableau{Float64,Float64}},OrdinaryDiffEq.Rodas4ConstantCache{SciMLBase.TimeDerivativeWrapper{ODEFunction{false,typeof(doublependulum),UniformScaling{Bool},Nothing,Nothing,Nothing,Nothing,Nothing,Nothing,Nothing,Nothing,Nothing,Nothing,Nothing,Nothing,typeof(SciMLBase.DEFAULT_OBSERVED),Nothing},Array{Float64,1},Parameters},SciMLBase.UDerivativeWrapper{ODEFunction{false,typeof(doublependulum),UniformScaling{Bool},Nothing,Nothing,Nothing,Nothing,Nothing,Nothing,Nothing,Nothing,Nothing,Nothing,Nothing,Nothing,typeof(SciMLBase.DEFAULT_OBSERVED),Nothing},Float64,Parameters},OrdinaryDiffEq.RodasTableau{Float64,Float64},Array{Float64,2},LU{Float64,Array{Float64,2}},DefaultLinSolve}},OrdinaryDiffEq.AutoSwitchCache{Vern7,Rodas4{0,false,DefaultLinSolve,Val{:forward}},Rational{Int64},Int64}},OrdinaryDiffEq.DEOptions{Float64,Float64,Float64,Float64,PIController{Rational{Int64}},typeof(DiffEqBase.ODE_DEFAULT_NORM),typeof(opnorm),Nothing,CallbackSet{Tuple{},Tuple{}},typeof(DiffEqBase.ODE_DEFAULT_ISOUTOFDOMAIN),typeof(DiffEqBase.ODE_DEFAULT_PROG_MESSAGE),typeof(DiffEqBase.ODE_DEFAULT_UNSTABLE_CHECK),DataStructures.BinaryHeap{Float64,DataStructures.FasterForward},DataStructures.BinaryHeap{Float64,DataStructures.FasterForward},Nothing,Nothing,Int64,Tuple{},Tuple{},Tuple{}},Array{Float64,1},Float64,Nothing,OrdinaryDiffEq.DefaultInit}, ::OrdinaryDiffEq.Rodas4ConstantCache{SciMLBase.TimeDerivativeWrapper{ODEFunction{false,typeof(doublependulum),UniformScaling{Bool},Nothing,Nothing,Nothing,Nothing,Nothing,Nothing,Nothing,Nothing,Nothing,Nothing,Nothing,Nothing,typeof(SciMLBase.DEFAULT_OBSERVED),Nothing},Array{Float64,1},Parameters},SciMLBase.UDerivativeWrapper{ODEFunction{false,typeof(doublependulum),UniformScaling{Bool},Nothing,Nothing,Nothing,Nothing,Nothing,Nothing,Nothing,Nothing,Nothing,Nothing,Nothing,Nothing,typeof(SciMLBase.DEFAULT_OBSERVED),Nothing},Float64,Parameters},OrdinaryDiffEq.RodasTableau{Float64,Float64},Array{Float64,2},LU{Float64,Array{Float64,2}},DefaultLinSolve}, ::Bool\u001b[1m)\u001b[22m at \u001b[1mC:\\Users\\isaac\\.julia\\packages\\OrdinaryDiffEq\\c2Dwp\\src\\perform_step\\rosenbrock_perform_step.jl:749\u001b[22m\u001b[39m\n\u001b[91m [5] \u001b[1mperform_step!\u001b[22m at \u001b[1mC:\\Users\\isaac\\.julia\\packages\\OrdinaryDiffEq\\c2Dwp\\src\\perform_step\\composite_perform_step.jl:52\u001b[22m [inlined]\u001b[39m\n\u001b[91m [6] \u001b[1mperform_step!\u001b[22m at \u001b[1mC:\\Users\\isaac\\.julia\\packages\\OrdinaryDiffEq\\c2Dwp\\src\\perform_step\\composite_perform_step.jl:49\u001b[22m [inlined]\u001b[39m\n\u001b[91m [7] \u001b[1msolve!\u001b[22m\u001b[1m(\u001b[22m::OrdinaryDiffEq.ODEIntegrator{CompositeAlgorithm{Tuple{Vern7,Rodas4{0,false,DefaultLinSolve,Val{:forward}}},OrdinaryDiffEq.AutoSwitchCache{Vern7,Rodas4{0,false,DefaultLinSolve,Val{:forward}},Rational{Int64},Int64}},false,Array{Float64,1},Nothing,Float64,Parameters,Float64,Float64,Float64,Float64,Array{Array{Float64,1},1},OrdinaryDiffEq.ODECompositeSolution{Float64,2,Array{Array{Float64,1},1},Nothing,Nothing,Array{Float64,1},Array{Array{Array{Float64,1},1},1},ODEProblem{Array{Float64,1},Tuple{Float64,Float64},false,Parameters,ODEFunction{false,typeof(doublependulum),UniformScaling{Bool},Nothing,Nothing,Nothing,Nothing,Nothing,Nothing,Nothing,Nothing,Nothing,Nothing,Nothing,Nothing,typeof(SciMLBase.DEFAULT_OBSERVED),Nothing},Base.Iterators.Pairs{Symbol,Float64,Tuple{Symbol,Symbol},NamedTuple{(:reltol, :atol),Tuple{Float64,Float64}}},SciMLBase.StandardODEProblem},CompositeAlgorithm{Tuple{Vern7,Rodas4{0,false,DefaultLinSolve,Val{:forward}}},OrdinaryDiffEq.AutoSwitchCache{Vern7,Rodas4{0,false,DefaultLinSolve,Val{:forward}},Rational{Int64},Int64}},OrdinaryDiffEq.CompositeInterpolationData{ODEFunction{false,typeof(doublependulum),UniformScaling{Bool},Nothing,Nothing,Nothing,Nothing,Nothing,Nothing,Nothing,Nothing,Nothing,Nothing,Nothing,Nothing,typeof(SciMLBase.DEFAULT_OBSERVED),Nothing},Array{Array{Float64,1},1},Array{Float64,1},Array{Array{Array{Float64,1},1},1},OrdinaryDiffEq.CompositeCache{Tuple{OrdinaryDiffEq.Vern7ConstantCache{OrdinaryDiffEq.Vern7Tableau{Float64,Float64}},OrdinaryDiffEq.Rodas4ConstantCache{SciMLBase.TimeDerivativeWrapper{ODEFunction{false,typeof(doublependulum),UniformScaling{Bool},Nothing,Nothing,Nothing,Nothing,Nothing,Nothing,Nothing,Nothing,Nothing,Nothing,Nothing,Nothing,typeof(SciMLBase.DEFAULT_OBSERVED),Nothing},Array{Float64,1},Parameters},SciMLBase.UDerivativeWrapper{ODEFunction{false,typeof(doublependulum),UniformScaling{Bool},Nothing,Nothing,Nothing,Nothing,Nothing,Nothing,Nothing,Nothing,Nothing,Nothing,Nothing,Nothing,typeof(SciMLBase.DEFAULT_OBSERVED),Nothing},Float64,Parameters},OrdinaryDiffEq.RodasTableau{Float64,Float64},Array{Float64,2},LU{Float64,Array{Float64,2}},DefaultLinSolve}},OrdinaryDiffEq.AutoSwitchCache{Vern7,Rodas4{0,false,DefaultLinSolve,Val{:forward}},Rational{Int64},Int64}}},DiffEqBase.DEStats},ODEFunction{false,typeof(doublependulum),UniformScaling{Bool},Nothing,Nothing,Nothing,Nothing,Nothing,Nothing,Nothing,Nothing,Nothing,Nothing,Nothing,Nothing,typeof(SciMLBase.DEFAULT_OBSERVED),Nothing},OrdinaryDiffEq.CompositeCache{Tuple{OrdinaryDiffEq.Vern7ConstantCache{OrdinaryDiffEq.Vern7Tableau{Float64,Float64}},OrdinaryDiffEq.Rodas4ConstantCache{SciMLBase.TimeDerivativeWrapper{ODEFunction{false,typeof(doublependulum),UniformScaling{Bool},Nothing,Nothing,Nothing,Nothing,Nothing,Nothing,Nothing,Nothing,Nothing,Nothing,Nothing,Nothing,typeof(SciMLBase.DEFAULT_OBSERVED),Nothing},Array{Float64,1},Parameters},SciMLBase.UDerivativeWrapper{ODEFunction{false,typeof(doublependulum),UniformScaling{Bool},Nothing,Nothing,Nothing,Nothing,Nothing,Nothing,Nothing,Nothing,Nothing,Nothing,Nothing,Nothing,typeof(SciMLBase.DEFAULT_OBSERVED),Nothing},Float64,Parameters},OrdinaryDiffEq.RodasTableau{Float64,Float64},Array{Float64,2},LU{Float64,Array{Float64,2}},DefaultLinSolve}},OrdinaryDiffEq.AutoSwitchCache{Vern7,Rodas4{0,false,DefaultLinSolve,Val{:forward}},Rational{Int64},Int64}},OrdinaryDiffEq.DEOptions{Float64,Float64,Float64,Float64,PIController{Rational{Int64}},typeof(DiffEqBase.ODE_DEFAULT_NORM),typeof(opnorm),Nothing,CallbackSet{Tuple{},Tuple{}},typeof(DiffEqBase.ODE_DEFAULT_ISOUTOFDOMAIN),typeof(DiffEqBase.ODE_DEFAULT_PROG_MESSAGE),typeof(DiffEqBase.ODE_DEFAULT_UNSTABLE_CHECK),DataStructures.BinaryHeap{Float64,DataStructures.FasterForward},DataStructures.BinaryHeap{Float64,DataStructures.FasterForward},Nothing,Nothing,Int64,Tuple{},Tuple{},Tuple{}},Array{Float64,1},Float64,Nothing,OrdinaryDiffEq.DefaultInit}\u001b[1m)\u001b[22m at \u001b[1mC:\\Users\\isaac\\.julia\\packages\\OrdinaryDiffEq\\c2Dwp\\src\\solve.jl:478\u001b[22m\u001b[39m\n\u001b[91m [8] \u001b[1m#__solve#465\u001b[22m at \u001b[1mC:\\Users\\isaac\\.julia\\packages\\OrdinaryDiffEq\\c2Dwp\\src\\solve.jl:5\u001b[22m [inlined]\u001b[39m\n\u001b[91m [9] \u001b[1m__solve\u001b[22m\u001b[1m(\u001b[22m::ODEProblem{Array{Float64,1},Tuple{Float64,Float64},false,Parameters,ODEFunction{false,typeof(doublependulum),UniformScaling{Bool},Nothing,Nothing,Nothing,Nothing,Nothing,Nothing,Nothing,Nothing,Nothing,Nothing,Nothing,Nothing,typeof(SciMLBase.DEFAULT_OBSERVED),Nothing},Base.Iterators.Pairs{Symbol,Float64,Tuple{Symbol,Symbol},NamedTuple{(:reltol, :atol),Tuple{Float64,Float64}}},SciMLBase.StandardODEProblem}, ::Nothing; default_set::Bool, kwargs::Base.Iterators.Pairs{Symbol,Real,Tuple{Symbol,Symbol,Symbol},NamedTuple{(:second_time, :reltol, :atol),Tuple{Bool,Float64,Float64}}}\u001b[1m)\u001b[22m at \u001b[1mC:\\Users\\isaac\\.julia\\packages\\DifferentialEquations\\el96s\\src\\default_solve.jl:7\u001b[22m\u001b[39m\n\u001b[91m [10] \u001b[1m#__solve#71\u001b[22m at \u001b[1mC:\\Users\\isaac\\.julia\\packages\\DiffEqBase\\QiFNl\\src\\solve.jl:282\u001b[22m [inlined]\u001b[39m\n\u001b[91m [11] \u001b[1msolve_call\u001b[22m\u001b[1m(\u001b[22m::ODEProblem{Array{Float64,1},Tuple{Float64,Float64},false,Parameters,ODEFunction{false,typeof(doublependulum),UniformScaling{Bool},Nothing,Nothing,Nothing,Nothing,Nothing,Nothing,Nothing,Nothing,Nothing,Nothing,Nothing,Nothing,typeof(SciMLBase.DEFAULT_OBSERVED),Nothing},Base.Iterators.Pairs{Symbol,Float64,Tuple{Symbol,Symbol},NamedTuple{(:reltol, :atol),Tuple{Float64,Float64}}},SciMLBase.StandardODEProblem}; merge_callbacks::Bool, kwargs::Base.Iterators.Pairs{Union{},Union{},Tuple{},NamedTuple{(),Tuple{}}}\u001b[1m)\u001b[22m at \u001b[1mC:\\Users\\isaac\\.julia\\packages\\DiffEqBase\\QiFNl\\src\\solve.jl:61\u001b[22m\u001b[39m\n\u001b[91m [12] \u001b[1msolve_call\u001b[22m at \u001b[1mC:\\Users\\isaac\\.julia\\packages\\DiffEqBase\\QiFNl\\src\\solve.jl:48\u001b[22m [inlined]\u001b[39m\n\u001b[91m [13] \u001b[1m#solve_up#58\u001b[22m at \u001b[1mC:\\Users\\isaac\\.julia\\packages\\DiffEqBase\\QiFNl\\src\\solve.jl:85\u001b[22m [inlined]\u001b[39m\n\u001b[91m [14] \u001b[1msolve_up\u001b[22m at \u001b[1mC:\\Users\\isaac\\.julia\\packages\\DiffEqBase\\QiFNl\\src\\solve.jl:75\u001b[22m [inlined]\u001b[39m\n\u001b[91m [15] \u001b[1m#solve#57\u001b[22m at \u001b[1mC:\\Users\\isaac\\.julia\\packages\\DiffEqBase\\QiFNl\\src\\solve.jl:70\u001b[22m [inlined]\u001b[39m\n\u001b[91m [16] \u001b[1msolve\u001b[22m\u001b[1m(\u001b[22m::ODEProblem{Array{Float64,1},Tuple{Float64,Float64},false,Parameters,ODEFunction{false,typeof(doublependulum),UniformScaling{Bool},Nothing,Nothing,Nothing,Nothing,Nothing,Nothing,Nothing,Nothing,Nothing,Nothing,Nothing,Nothing,typeof(SciMLBase.DEFAULT_OBSERVED),Nothing},Base.Iterators.Pairs{Symbol,Float64,Tuple{Symbol,Symbol},NamedTuple{(:reltol, :atol),Tuple{Float64,Float64}}},SciMLBase.StandardODEProblem}\u001b[1m)\u001b[22m at \u001b[1mC:\\Users\\isaac\\.julia\\packages\\DiffEqBase\\QiFNl\\src\\solve.jl:68\u001b[22m\u001b[39m\n\u001b[91m [17] \u001b[1mPhasePath\u001b[22m\u001b[1m(\u001b[22m::Parameters, ::State; tfinal::Float64\u001b[1m)\u001b[22m at \u001b[1m.\\In[12]:10\u001b[22m\u001b[39m\n\u001b[91m [18] \u001b[1mmacro expansion\u001b[22m at \u001b[1m.\\In[14]:14\u001b[22m [inlined]\u001b[39m\n\u001b[91m [19] \u001b[1m(::var\"#70#threadsfor_fun#6\"{Float64,Parameters,Array{PhasePath,1},Progress,StateVector})\u001b[22m\u001b[1m(\u001b[22m::Bool\u001b[1m)\u001b[22m at \u001b[1m.\\threadingconstructs.jl:81\u001b[22m\u001b[39m\n\u001b[91m [20] \u001b[1m(::var\"#70#threadsfor_fun#6\"{Float64,Parameters,Array{PhasePath,1},Progress,StateVector})\u001b[22m\u001b[1m(\u001b[22m\u001b[1m)\u001b[22m at \u001b[1m.\\threadingconstructs.jl:48\u001b[22m\u001b[39m",
     "output_type": "error",
     "traceback": [
      "\u001b[91mTaskFailedException:\u001b[39m\n\u001b[91m\u001b[91mMethodError: no method matching doublependulum(::Array{Float64,1}, ::Parameters, ::ForwardDiff.Dual{ForwardDiff.Tag{SciMLBase.TimeDerivativeWrapper{ODEFunction{false,typeof(doublependulum),UniformScaling{Bool},Nothing,Nothing,Nothing,Nothing,Nothing,Nothing,Nothing,Nothing,Nothing,Nothing,Nothing,Nothing,typeof(SciMLBase.DEFAULT_OBSERVED),Nothing},Array{Float64,1},Parameters},Float64},Float64,1})\u001b[39m\u001b[39m\n\u001b[91m\u001b[91m\u001b[0mClosest candidates are:\u001b[39m\u001b[39m\n\u001b[91m\u001b[91m\u001b[0m  doublependulum(::Array{Float64,1}, ::Parameters, \u001b[91m::Float64\u001b[39m) at In[8]:1\u001b[39m\u001b[39m\n\u001b[91mStacktrace:\u001b[39m\n\u001b[91m [1] \u001b[1m(::ODEFunction{false,typeof(doublependulum),UniformScaling{Bool},Nothing,Nothing,Nothing,Nothing,Nothing,Nothing,Nothing,Nothing,Nothing,Nothing,Nothing,Nothing,typeof(SciMLBase.DEFAULT_OBSERVED),Nothing})\u001b[22m\u001b[1m(\u001b[22m::Array{Float64,1}, ::Vararg{Any,N} where N\u001b[1m)\u001b[22m at \u001b[1mC:\\Users\\isaac\\.julia\\packages\\SciMLBase\\x3z0g\\src\\scimlfunctions.jl:334\u001b[22m\u001b[39m\n\u001b[91m [2] \u001b[1m(::SciMLBase.TimeDerivativeWrapper{ODEFunction{false,typeof(doublependulum),UniformScaling{Bool},Nothing,Nothing,Nothing,Nothing,Nothing,Nothing,Nothing,Nothing,Nothing,Nothing,Nothing,Nothing,typeof(SciMLBase.DEFAULT_OBSERVED),Nothing},Array{Float64,1},Parameters})\u001b[22m\u001b[1m(\u001b[22m::ForwardDiff.Dual{ForwardDiff.Tag{SciMLBase.TimeDerivativeWrapper{ODEFunction{false,typeof(doublependulum),UniformScaling{Bool},Nothing,Nothing,Nothing,Nothing,Nothing,Nothing,Nothing,Nothing,Nothing,Nothing,Nothing,Nothing,typeof(SciMLBase.DEFAULT_OBSERVED),Nothing},Array{Float64,1},Parameters},Float64},Float64,1}\u001b[1m)\u001b[22m at \u001b[1mC:\\Users\\isaac\\.julia\\packages\\SciMLBase\\x3z0g\\src\\function_wrappers.jl:23\u001b[22m\u001b[39m\n\u001b[91m [3] \u001b[1mderivative\u001b[22m at \u001b[1mC:\\Users\\isaac\\.julia\\packages\\ForwardDiff\\tZ5o1\\src\\derivative.jl:14\u001b[22m [inlined]\u001b[39m\n\u001b[91m [4] \u001b[1mperform_step!\u001b[22m\u001b[1m(\u001b[22m::OrdinaryDiffEq.ODEIntegrator{CompositeAlgorithm{Tuple{Vern7,Rodas4{0,false,DefaultLinSolve,Val{:forward}}},OrdinaryDiffEq.AutoSwitchCache{Vern7,Rodas4{0,false,DefaultLinSolve,Val{:forward}},Rational{Int64},Int64}},false,Array{Float64,1},Nothing,Float64,Parameters,Float64,Float64,Float64,Float64,Array{Array{Float64,1},1},OrdinaryDiffEq.ODECompositeSolution{Float64,2,Array{Array{Float64,1},1},Nothing,Nothing,Array{Float64,1},Array{Array{Array{Float64,1},1},1},ODEProblem{Array{Float64,1},Tuple{Float64,Float64},false,Parameters,ODEFunction{false,typeof(doublependulum),UniformScaling{Bool},Nothing,Nothing,Nothing,Nothing,Nothing,Nothing,Nothing,Nothing,Nothing,Nothing,Nothing,Nothing,typeof(SciMLBase.DEFAULT_OBSERVED),Nothing},Base.Iterators.Pairs{Symbol,Float64,Tuple{Symbol,Symbol},NamedTuple{(:reltol, :atol),Tuple{Float64,Float64}}},SciMLBase.StandardODEProblem},CompositeAlgorithm{Tuple{Vern7,Rodas4{0,false,DefaultLinSolve,Val{:forward}}},OrdinaryDiffEq.AutoSwitchCache{Vern7,Rodas4{0,false,DefaultLinSolve,Val{:forward}},Rational{Int64},Int64}},OrdinaryDiffEq.CompositeInterpolationData{ODEFunction{false,typeof(doublependulum),UniformScaling{Bool},Nothing,Nothing,Nothing,Nothing,Nothing,Nothing,Nothing,Nothing,Nothing,Nothing,Nothing,Nothing,typeof(SciMLBase.DEFAULT_OBSERVED),Nothing},Array{Array{Float64,1},1},Array{Float64,1},Array{Array{Array{Float64,1},1},1},OrdinaryDiffEq.CompositeCache{Tuple{OrdinaryDiffEq.Vern7ConstantCache{OrdinaryDiffEq.Vern7Tableau{Float64,Float64}},OrdinaryDiffEq.Rodas4ConstantCache{SciMLBase.TimeDerivativeWrapper{ODEFunction{false,typeof(doublependulum),UniformScaling{Bool},Nothing,Nothing,Nothing,Nothing,Nothing,Nothing,Nothing,Nothing,Nothing,Nothing,Nothing,Nothing,typeof(SciMLBase.DEFAULT_OBSERVED),Nothing},Array{Float64,1},Parameters},SciMLBase.UDerivativeWrapper{ODEFunction{false,typeof(doublependulum),UniformScaling{Bool},Nothing,Nothing,Nothing,Nothing,Nothing,Nothing,Nothing,Nothing,Nothing,Nothing,Nothing,Nothing,typeof(SciMLBase.DEFAULT_OBSERVED),Nothing},Float64,Parameters},OrdinaryDiffEq.RodasTableau{Float64,Float64},Array{Float64,2},LU{Float64,Array{Float64,2}},DefaultLinSolve}},OrdinaryDiffEq.AutoSwitchCache{Vern7,Rodas4{0,false,DefaultLinSolve,Val{:forward}},Rational{Int64},Int64}}},DiffEqBase.DEStats},ODEFunction{false,typeof(doublependulum),UniformScaling{Bool},Nothing,Nothing,Nothing,Nothing,Nothing,Nothing,Nothing,Nothing,Nothing,Nothing,Nothing,Nothing,typeof(SciMLBase.DEFAULT_OBSERVED),Nothing},OrdinaryDiffEq.CompositeCache{Tuple{OrdinaryDiffEq.Vern7ConstantCache{OrdinaryDiffEq.Vern7Tableau{Float64,Float64}},OrdinaryDiffEq.Rodas4ConstantCache{SciMLBase.TimeDerivativeWrapper{ODEFunction{false,typeof(doublependulum),UniformScaling{Bool},Nothing,Nothing,Nothing,Nothing,Nothing,Nothing,Nothing,Nothing,Nothing,Nothing,Nothing,Nothing,typeof(SciMLBase.DEFAULT_OBSERVED),Nothing},Array{Float64,1},Parameters},SciMLBase.UDerivativeWrapper{ODEFunction{false,typeof(doublependulum),UniformScaling{Bool},Nothing,Nothing,Nothing,Nothing,Nothing,Nothing,Nothing,Nothing,Nothing,Nothing,Nothing,Nothing,typeof(SciMLBase.DEFAULT_OBSERVED),Nothing},Float64,Parameters},OrdinaryDiffEq.RodasTableau{Float64,Float64},Array{Float64,2},LU{Float64,Array{Float64,2}},DefaultLinSolve}},OrdinaryDiffEq.AutoSwitchCache{Vern7,Rodas4{0,false,DefaultLinSolve,Val{:forward}},Rational{Int64},Int64}},OrdinaryDiffEq.DEOptions{Float64,Float64,Float64,Float64,PIController{Rational{Int64}},typeof(DiffEqBase.ODE_DEFAULT_NORM),typeof(opnorm),Nothing,CallbackSet{Tuple{},Tuple{}},typeof(DiffEqBase.ODE_DEFAULT_ISOUTOFDOMAIN),typeof(DiffEqBase.ODE_DEFAULT_PROG_MESSAGE),typeof(DiffEqBase.ODE_DEFAULT_UNSTABLE_CHECK),DataStructures.BinaryHeap{Float64,DataStructures.FasterForward},DataStructures.BinaryHeap{Float64,DataStructures.FasterForward},Nothing,Nothing,Int64,Tuple{},Tuple{},Tuple{}},Array{Float64,1},Float64,Nothing,OrdinaryDiffEq.DefaultInit}, ::OrdinaryDiffEq.Rodas4ConstantCache{SciMLBase.TimeDerivativeWrapper{ODEFunction{false,typeof(doublependulum),UniformScaling{Bool},Nothing,Nothing,Nothing,Nothing,Nothing,Nothing,Nothing,Nothing,Nothing,Nothing,Nothing,Nothing,typeof(SciMLBase.DEFAULT_OBSERVED),Nothing},Array{Float64,1},Parameters},SciMLBase.UDerivativeWrapper{ODEFunction{false,typeof(doublependulum),UniformScaling{Bool},Nothing,Nothing,Nothing,Nothing,Nothing,Nothing,Nothing,Nothing,Nothing,Nothing,Nothing,Nothing,typeof(SciMLBase.DEFAULT_OBSERVED),Nothing},Float64,Parameters},OrdinaryDiffEq.RodasTableau{Float64,Float64},Array{Float64,2},LU{Float64,Array{Float64,2}},DefaultLinSolve}, ::Bool\u001b[1m)\u001b[22m at \u001b[1mC:\\Users\\isaac\\.julia\\packages\\OrdinaryDiffEq\\c2Dwp\\src\\perform_step\\rosenbrock_perform_step.jl:749\u001b[22m\u001b[39m\n\u001b[91m [5] \u001b[1mperform_step!\u001b[22m at \u001b[1mC:\\Users\\isaac\\.julia\\packages\\OrdinaryDiffEq\\c2Dwp\\src\\perform_step\\composite_perform_step.jl:52\u001b[22m [inlined]\u001b[39m\n\u001b[91m [6] \u001b[1mperform_step!\u001b[22m at \u001b[1mC:\\Users\\isaac\\.julia\\packages\\OrdinaryDiffEq\\c2Dwp\\src\\perform_step\\composite_perform_step.jl:49\u001b[22m [inlined]\u001b[39m\n\u001b[91m [7] \u001b[1msolve!\u001b[22m\u001b[1m(\u001b[22m::OrdinaryDiffEq.ODEIntegrator{CompositeAlgorithm{Tuple{Vern7,Rodas4{0,false,DefaultLinSolve,Val{:forward}}},OrdinaryDiffEq.AutoSwitchCache{Vern7,Rodas4{0,false,DefaultLinSolve,Val{:forward}},Rational{Int64},Int64}},false,Array{Float64,1},Nothing,Float64,Parameters,Float64,Float64,Float64,Float64,Array{Array{Float64,1},1},OrdinaryDiffEq.ODECompositeSolution{Float64,2,Array{Array{Float64,1},1},Nothing,Nothing,Array{Float64,1},Array{Array{Array{Float64,1},1},1},ODEProblem{Array{Float64,1},Tuple{Float64,Float64},false,Parameters,ODEFunction{false,typeof(doublependulum),UniformScaling{Bool},Nothing,Nothing,Nothing,Nothing,Nothing,Nothing,Nothing,Nothing,Nothing,Nothing,Nothing,Nothing,typeof(SciMLBase.DEFAULT_OBSERVED),Nothing},Base.Iterators.Pairs{Symbol,Float64,Tuple{Symbol,Symbol},NamedTuple{(:reltol, :atol),Tuple{Float64,Float64}}},SciMLBase.StandardODEProblem},CompositeAlgorithm{Tuple{Vern7,Rodas4{0,false,DefaultLinSolve,Val{:forward}}},OrdinaryDiffEq.AutoSwitchCache{Vern7,Rodas4{0,false,DefaultLinSolve,Val{:forward}},Rational{Int64},Int64}},OrdinaryDiffEq.CompositeInterpolationData{ODEFunction{false,typeof(doublependulum),UniformScaling{Bool},Nothing,Nothing,Nothing,Nothing,Nothing,Nothing,Nothing,Nothing,Nothing,Nothing,Nothing,Nothing,typeof(SciMLBase.DEFAULT_OBSERVED),Nothing},Array{Array{Float64,1},1},Array{Float64,1},Array{Array{Array{Float64,1},1},1},OrdinaryDiffEq.CompositeCache{Tuple{OrdinaryDiffEq.Vern7ConstantCache{OrdinaryDiffEq.Vern7Tableau{Float64,Float64}},OrdinaryDiffEq.Rodas4ConstantCache{SciMLBase.TimeDerivativeWrapper{ODEFunction{false,typeof(doublependulum),UniformScaling{Bool},Nothing,Nothing,Nothing,Nothing,Nothing,Nothing,Nothing,Nothing,Nothing,Nothing,Nothing,Nothing,typeof(SciMLBase.DEFAULT_OBSERVED),Nothing},Array{Float64,1},Parameters},SciMLBase.UDerivativeWrapper{ODEFunction{false,typeof(doublependulum),UniformScaling{Bool},Nothing,Nothing,Nothing,Nothing,Nothing,Nothing,Nothing,Nothing,Nothing,Nothing,Nothing,Nothing,typeof(SciMLBase.DEFAULT_OBSERVED),Nothing},Float64,Parameters},OrdinaryDiffEq.RodasTableau{Float64,Float64},Array{Float64,2},LU{Float64,Array{Float64,2}},DefaultLinSolve}},OrdinaryDiffEq.AutoSwitchCache{Vern7,Rodas4{0,false,DefaultLinSolve,Val{:forward}},Rational{Int64},Int64}}},DiffEqBase.DEStats},ODEFunction{false,typeof(doublependulum),UniformScaling{Bool},Nothing,Nothing,Nothing,Nothing,Nothing,Nothing,Nothing,Nothing,Nothing,Nothing,Nothing,Nothing,typeof(SciMLBase.DEFAULT_OBSERVED),Nothing},OrdinaryDiffEq.CompositeCache{Tuple{OrdinaryDiffEq.Vern7ConstantCache{OrdinaryDiffEq.Vern7Tableau{Float64,Float64}},OrdinaryDiffEq.Rodas4ConstantCache{SciMLBase.TimeDerivativeWrapper{ODEFunction{false,typeof(doublependulum),UniformScaling{Bool},Nothing,Nothing,Nothing,Nothing,Nothing,Nothing,Nothing,Nothing,Nothing,Nothing,Nothing,Nothing,typeof(SciMLBase.DEFAULT_OBSERVED),Nothing},Array{Float64,1},Parameters},SciMLBase.UDerivativeWrapper{ODEFunction{false,typeof(doublependulum),UniformScaling{Bool},Nothing,Nothing,Nothing,Nothing,Nothing,Nothing,Nothing,Nothing,Nothing,Nothing,Nothing,Nothing,typeof(SciMLBase.DEFAULT_OBSERVED),Nothing},Float64,Parameters},OrdinaryDiffEq.RodasTableau{Float64,Float64},Array{Float64,2},LU{Float64,Array{Float64,2}},DefaultLinSolve}},OrdinaryDiffEq.AutoSwitchCache{Vern7,Rodas4{0,false,DefaultLinSolve,Val{:forward}},Rational{Int64},Int64}},OrdinaryDiffEq.DEOptions{Float64,Float64,Float64,Float64,PIController{Rational{Int64}},typeof(DiffEqBase.ODE_DEFAULT_NORM),typeof(opnorm),Nothing,CallbackSet{Tuple{},Tuple{}},typeof(DiffEqBase.ODE_DEFAULT_ISOUTOFDOMAIN),typeof(DiffEqBase.ODE_DEFAULT_PROG_MESSAGE),typeof(DiffEqBase.ODE_DEFAULT_UNSTABLE_CHECK),DataStructures.BinaryHeap{Float64,DataStructures.FasterForward},DataStructures.BinaryHeap{Float64,DataStructures.FasterForward},Nothing,Nothing,Int64,Tuple{},Tuple{},Tuple{}},Array{Float64,1},Float64,Nothing,OrdinaryDiffEq.DefaultInit}\u001b[1m)\u001b[22m at \u001b[1mC:\\Users\\isaac\\.julia\\packages\\OrdinaryDiffEq\\c2Dwp\\src\\solve.jl:478\u001b[22m\u001b[39m\n\u001b[91m [8] \u001b[1m#__solve#465\u001b[22m at \u001b[1mC:\\Users\\isaac\\.julia\\packages\\OrdinaryDiffEq\\c2Dwp\\src\\solve.jl:5\u001b[22m [inlined]\u001b[39m\n\u001b[91m [9] \u001b[1m__solve\u001b[22m\u001b[1m(\u001b[22m::ODEProblem{Array{Float64,1},Tuple{Float64,Float64},false,Parameters,ODEFunction{false,typeof(doublependulum),UniformScaling{Bool},Nothing,Nothing,Nothing,Nothing,Nothing,Nothing,Nothing,Nothing,Nothing,Nothing,Nothing,Nothing,typeof(SciMLBase.DEFAULT_OBSERVED),Nothing},Base.Iterators.Pairs{Symbol,Float64,Tuple{Symbol,Symbol},NamedTuple{(:reltol, :atol),Tuple{Float64,Float64}}},SciMLBase.StandardODEProblem}, ::Nothing; default_set::Bool, kwargs::Base.Iterators.Pairs{Symbol,Real,Tuple{Symbol,Symbol,Symbol},NamedTuple{(:second_time, :reltol, :atol),Tuple{Bool,Float64,Float64}}}\u001b[1m)\u001b[22m at \u001b[1mC:\\Users\\isaac\\.julia\\packages\\DifferentialEquations\\el96s\\src\\default_solve.jl:7\u001b[22m\u001b[39m\n\u001b[91m [10] \u001b[1m#__solve#71\u001b[22m at \u001b[1mC:\\Users\\isaac\\.julia\\packages\\DiffEqBase\\QiFNl\\src\\solve.jl:282\u001b[22m [inlined]\u001b[39m\n\u001b[91m [11] \u001b[1msolve_call\u001b[22m\u001b[1m(\u001b[22m::ODEProblem{Array{Float64,1},Tuple{Float64,Float64},false,Parameters,ODEFunction{false,typeof(doublependulum),UniformScaling{Bool},Nothing,Nothing,Nothing,Nothing,Nothing,Nothing,Nothing,Nothing,Nothing,Nothing,Nothing,Nothing,typeof(SciMLBase.DEFAULT_OBSERVED),Nothing},Base.Iterators.Pairs{Symbol,Float64,Tuple{Symbol,Symbol},NamedTuple{(:reltol, :atol),Tuple{Float64,Float64}}},SciMLBase.StandardODEProblem}; merge_callbacks::Bool, kwargs::Base.Iterators.Pairs{Union{},Union{},Tuple{},NamedTuple{(),Tuple{}}}\u001b[1m)\u001b[22m at \u001b[1mC:\\Users\\isaac\\.julia\\packages\\DiffEqBase\\QiFNl\\src\\solve.jl:61\u001b[22m\u001b[39m\n\u001b[91m [12] \u001b[1msolve_call\u001b[22m at \u001b[1mC:\\Users\\isaac\\.julia\\packages\\DiffEqBase\\QiFNl\\src\\solve.jl:48\u001b[22m [inlined]\u001b[39m\n\u001b[91m [13] \u001b[1m#solve_up#58\u001b[22m at \u001b[1mC:\\Users\\isaac\\.julia\\packages\\DiffEqBase\\QiFNl\\src\\solve.jl:85\u001b[22m [inlined]\u001b[39m\n\u001b[91m [14] \u001b[1msolve_up\u001b[22m at \u001b[1mC:\\Users\\isaac\\.julia\\packages\\DiffEqBase\\QiFNl\\src\\solve.jl:75\u001b[22m [inlined]\u001b[39m\n\u001b[91m [15] \u001b[1m#solve#57\u001b[22m at \u001b[1mC:\\Users\\isaac\\.julia\\packages\\DiffEqBase\\QiFNl\\src\\solve.jl:70\u001b[22m [inlined]\u001b[39m\n\u001b[91m [16] \u001b[1msolve\u001b[22m\u001b[1m(\u001b[22m::ODEProblem{Array{Float64,1},Tuple{Float64,Float64},false,Parameters,ODEFunction{false,typeof(doublependulum),UniformScaling{Bool},Nothing,Nothing,Nothing,Nothing,Nothing,Nothing,Nothing,Nothing,Nothing,Nothing,Nothing,Nothing,typeof(SciMLBase.DEFAULT_OBSERVED),Nothing},Base.Iterators.Pairs{Symbol,Float64,Tuple{Symbol,Symbol},NamedTuple{(:reltol, :atol),Tuple{Float64,Float64}}},SciMLBase.StandardODEProblem}\u001b[1m)\u001b[22m at \u001b[1mC:\\Users\\isaac\\.julia\\packages\\DiffEqBase\\QiFNl\\src\\solve.jl:68\u001b[22m\u001b[39m\n\u001b[91m [17] \u001b[1mPhasePath\u001b[22m\u001b[1m(\u001b[22m::Parameters, ::State; tfinal::Float64\u001b[1m)\u001b[22m at \u001b[1m.\\In[12]:10\u001b[22m\u001b[39m\n\u001b[91m [18] \u001b[1mmacro expansion\u001b[22m at \u001b[1m.\\In[14]:14\u001b[22m [inlined]\u001b[39m\n\u001b[91m [19] \u001b[1m(::var\"#70#threadsfor_fun#6\"{Float64,Parameters,Array{PhasePath,1},Progress,StateVector})\u001b[22m\u001b[1m(\u001b[22m::Bool\u001b[1m)\u001b[22m at \u001b[1m.\\threadingconstructs.jl:81\u001b[22m\u001b[39m\n\u001b[91m [20] \u001b[1m(::var\"#70#threadsfor_fun#6\"{Float64,Parameters,Array{PhasePath,1},Progress,StateVector})\u001b[22m\u001b[1m(\u001b[22m\u001b[1m)\u001b[22m at \u001b[1m.\\threadingconstructs.jl:48\u001b[22m\u001b[39m",
      "",
      "Stacktrace:",
      " [1] wait at .\\task.jl:267 [inlined]",
      " [2] threading_run(::Function) at .\\threadingconstructs.jl:34",
      " [3] macro expansion at .\\threadingconstructs.jl:93 [inlined]",
      " [4] PoincareSection(::Parameters, ::Float64; div::Tuple{Int64,Int64,Int64}, tfinal::Float64) at .\\In[14]:13",
      " [5] PoincareSection at .\\In[14]:7 [inlined]",
      " [6] top-level scope at .\\In[27]:10",
      " [7] include_string(::Function, ::Module, ::String, ::String) at .\\loading.jl:1091"
     ]
    },
    {
     "name": "stderr",
     "output_type": "stream",
     "text": [
      "\r\n",
      "\u001b[32mProgress:  43%|██████████████████                       |  ETA: 0:02:28\u001b[39m"
     ]
    }
   ],
   "source": [
    "heatmap_div = 10\n",
    "heatmap_values = Array{Float64}(undef, heatmap_div^2, 3)\n",
    "\n",
    "i = 1\n",
    "prog = Progress(heatmap_div^2)\n",
    "for m in LinRange(1e-1, 1e1, heatmap_div)\n",
    "    for L in LinRange(1e-1, 1e1, heatmap_div)\n",
    "        p = Parameters(m, L)\n",
    "        E = energy(p, State(0, π, 0, 0))\n",
    "        section = PoincareSection(p, E)\n",
    "        dim = correlationdimension(section)\n",
    "        next!(prog)\n",
    "        \n",
    "        heatmap_values[i, 1] = m\n",
    "        heatmap_values[i, 2] = L\n",
    "        heatmap_values[i, 3] = dim\n",
    "        i += 1\n",
    "    end\n",
    "end"
   ]
  },
  {
   "cell_type": "code",
   "execution_count": 28,
   "metadata": {
    "scrolled": true
   },
   "outputs": [
    {
     "data": {
      "image/svg+xml": "<?xml version=\"1.0\" encoding=\"utf-8\"?>\n<svg xmlns=\"http://www.w3.org/2000/svg\" xmlns:xlink=\"http://www.w3.org/1999/xlink\" width=\"600\" height=\"400\" viewBox=\"0 0 2400 1600\">\n<defs>\n  <clipPath id=\"clip140\">\n    <rect x=\"0\" y=\"0\" width=\"2400\" height=\"1600\"/>\n  </clipPath>\n</defs>\n<path clip-path=\"url(#clip140)\" d=\"\nM0 1600 L2400 1600 L2400 0 L0 0  Z\n  \" fill=\"#ffffff\" fill-rule=\"evenodd\" fill-opacity=\"1\"/>\n<defs>\n  <clipPath id=\"clip141\">\n    <rect x=\"480\" y=\"0\" width=\"1681\" height=\"1600\"/>\n  </clipPath>\n</defs>\n<path clip-path=\"url(#clip140)\" d=\"\nM169.121 1486.45 L2112.76 1486.45 L2112.76 47.2441 L169.121 47.2441  Z\n  \" fill=\"#ffffff\" fill-rule=\"evenodd\" fill-opacity=\"1\"/>\n<defs>\n  <clipPath id=\"clip142\">\n    <rect x=\"169\" y=\"47\" width=\"1945\" height=\"1440\"/>\n  </clipPath>\n</defs>\n<polyline clip-path=\"url(#clip142)\" style=\"stroke:#000000; stroke-linecap:butt; stroke-linejoin:round; stroke-width:2; stroke-opacity:0.1; fill:none\" points=\"\n  169.121,1486.45 169.121,47.2441 \n  \"/>\n<polyline clip-path=\"url(#clip142)\" style=\"stroke:#000000; stroke-linecap:butt; stroke-linejoin:round; stroke-width:2; stroke-opacity:0.1; fill:none\" points=\"\n  493.06,1486.45 493.06,47.2441 \n  \"/>\n<polyline clip-path=\"url(#clip142)\" style=\"stroke:#000000; stroke-linecap:butt; stroke-linejoin:round; stroke-width:2; stroke-opacity:0.1; fill:none\" points=\"\n  817,1486.45 817,47.2441 \n  \"/>\n<polyline clip-path=\"url(#clip142)\" style=\"stroke:#000000; stroke-linecap:butt; stroke-linejoin:round; stroke-width:2; stroke-opacity:0.1; fill:none\" points=\"\n  1140.94,1486.45 1140.94,47.2441 \n  \"/>\n<polyline clip-path=\"url(#clip142)\" style=\"stroke:#000000; stroke-linecap:butt; stroke-linejoin:round; stroke-width:2; stroke-opacity:0.1; fill:none\" points=\"\n  1464.88,1486.45 1464.88,47.2441 \n  \"/>\n<polyline clip-path=\"url(#clip142)\" style=\"stroke:#000000; stroke-linecap:butt; stroke-linejoin:round; stroke-width:2; stroke-opacity:0.1; fill:none\" points=\"\n  1788.82,1486.45 1788.82,47.2441 \n  \"/>\n<polyline clip-path=\"url(#clip142)\" style=\"stroke:#000000; stroke-linecap:butt; stroke-linejoin:round; stroke-width:2; stroke-opacity:0.1; fill:none\" points=\"\n  2112.76,1486.45 2112.76,47.2441 \n  \"/>\n<polyline clip-path=\"url(#clip140)\" style=\"stroke:#000000; stroke-linecap:butt; stroke-linejoin:round; stroke-width:4; stroke-opacity:1; fill:none\" points=\"\n  169.121,1486.45 2112.76,1486.45 \n  \"/>\n<polyline clip-path=\"url(#clip140)\" style=\"stroke:#000000; stroke-linecap:butt; stroke-linejoin:round; stroke-width:4; stroke-opacity:1; fill:none\" points=\"\n  169.121,1486.45 169.121,1467.55 \n  \"/>\n<polyline clip-path=\"url(#clip140)\" style=\"stroke:#000000; stroke-linecap:butt; stroke-linejoin:round; stroke-width:4; stroke-opacity:1; fill:none\" points=\"\n  493.06,1486.45 493.06,1467.55 \n  \"/>\n<polyline clip-path=\"url(#clip140)\" style=\"stroke:#000000; stroke-linecap:butt; stroke-linejoin:round; stroke-width:4; stroke-opacity:1; fill:none\" points=\"\n  817,1486.45 817,1467.55 \n  \"/>\n<polyline clip-path=\"url(#clip140)\" style=\"stroke:#000000; stroke-linecap:butt; stroke-linejoin:round; stroke-width:4; stroke-opacity:1; fill:none\" points=\"\n  1140.94,1486.45 1140.94,1467.55 \n  \"/>\n<polyline clip-path=\"url(#clip140)\" style=\"stroke:#000000; stroke-linecap:butt; stroke-linejoin:round; stroke-width:4; stroke-opacity:1; fill:none\" points=\"\n  1464.88,1486.45 1464.88,1467.55 \n  \"/>\n<polyline clip-path=\"url(#clip140)\" style=\"stroke:#000000; stroke-linecap:butt; stroke-linejoin:round; stroke-width:4; stroke-opacity:1; fill:none\" points=\"\n  1788.82,1486.45 1788.82,1467.55 \n  \"/>\n<polyline clip-path=\"url(#clip140)\" style=\"stroke:#000000; stroke-linecap:butt; stroke-linejoin:round; stroke-width:4; stroke-opacity:1; fill:none\" points=\"\n  2112.76,1486.45 2112.76,1467.55 \n  \"/>\n<path clip-path=\"url(#clip140)\" d=\"M147.003 1517.37 Q143.392 1517.37 141.564 1520.93 Q139.758 1524.47 139.758 1531.6 Q139.758 1538.71 141.564 1542.27 Q143.392 1545.82 147.003 1545.82 Q150.638 1545.82 152.443 1542.27 Q154.272 1538.71 154.272 1531.6 Q154.272 1524.47 152.443 1520.93 Q150.638 1517.37 147.003 1517.37 M147.003 1513.66 Q152.814 1513.66 155.869 1518.27 Q158.948 1522.85 158.948 1531.6 Q158.948 1540.33 155.869 1544.94 Q152.814 1549.52 147.003 1549.52 Q141.193 1549.52 138.115 1544.94 Q135.059 1540.33 135.059 1531.6 Q135.059 1522.85 138.115 1518.27 Q141.193 1513.66 147.003 1513.66 Z\" fill=\"#000000\" fill-rule=\"evenodd\" fill-opacity=\"1\" /><path clip-path=\"url(#clip140)\" d=\"M167.165 1542.97 L172.05 1542.97 L172.05 1548.85 L167.165 1548.85 L167.165 1542.97 Z\" fill=\"#000000\" fill-rule=\"evenodd\" fill-opacity=\"1\" /><path clip-path=\"url(#clip140)\" d=\"M182.281 1514.29 L200.637 1514.29 L200.637 1518.22 L186.563 1518.22 L186.563 1526.7 Q187.582 1526.35 188.6 1526.19 Q189.619 1526 190.637 1526 Q196.424 1526 199.804 1529.17 Q203.184 1532.34 203.184 1537.76 Q203.184 1543.34 199.711 1546.44 Q196.239 1549.52 189.92 1549.52 Q187.744 1549.52 185.475 1549.15 Q183.23 1548.78 180.823 1548.04 L180.823 1543.34 Q182.906 1544.47 185.128 1545.03 Q187.35 1545.58 189.827 1545.58 Q193.832 1545.58 196.17 1543.48 Q198.508 1541.37 198.508 1537.76 Q198.508 1534.15 196.17 1532.04 Q193.832 1529.94 189.827 1529.94 Q187.952 1529.94 186.077 1530.35 Q184.225 1530.77 182.281 1531.65 L182.281 1514.29 Z\" fill=\"#000000\" fill-rule=\"evenodd\" fill-opacity=\"1\" /><path clip-path=\"url(#clip140)\" d=\"M460.213 1544.91 L467.852 1544.91 L467.852 1518.55 L459.542 1520.21 L459.542 1515.95 L467.806 1514.29 L472.482 1514.29 L472.482 1544.91 L480.121 1544.91 L480.121 1548.85 L460.213 1548.85 L460.213 1544.91 Z\" fill=\"#000000\" fill-rule=\"evenodd\" fill-opacity=\"1\" /><path clip-path=\"url(#clip140)\" d=\"M489.565 1542.97 L494.449 1542.97 L494.449 1548.85 L489.565 1548.85 L489.565 1542.97 Z\" fill=\"#000000\" fill-rule=\"evenodd\" fill-opacity=\"1\" /><path clip-path=\"url(#clip140)\" d=\"M514.634 1517.37 Q511.023 1517.37 509.195 1520.93 Q507.389 1524.47 507.389 1531.6 Q507.389 1538.71 509.195 1542.27 Q511.023 1545.82 514.634 1545.82 Q518.269 1545.82 520.074 1542.27 Q521.903 1538.71 521.903 1531.6 Q521.903 1524.47 520.074 1520.93 Q518.269 1517.37 514.634 1517.37 M514.634 1513.66 Q520.445 1513.66 523.5 1518.27 Q526.579 1522.85 526.579 1531.6 Q526.579 1540.33 523.5 1544.94 Q520.445 1549.52 514.634 1549.52 Q508.824 1549.52 505.746 1544.94 Q502.69 1540.33 502.69 1531.6 Q502.69 1522.85 505.746 1518.27 Q508.824 1513.66 514.634 1513.66 Z\" fill=\"#000000\" fill-rule=\"evenodd\" fill-opacity=\"1\" /><path clip-path=\"url(#clip140)\" d=\"M784.65 1544.91 L792.289 1544.91 L792.289 1518.55 L783.979 1520.21 L783.979 1515.95 L792.243 1514.29 L796.919 1514.29 L796.919 1544.91 L804.557 1544.91 L804.557 1548.85 L784.65 1548.85 L784.65 1544.91 Z\" fill=\"#000000\" fill-rule=\"evenodd\" fill-opacity=\"1\" /><path clip-path=\"url(#clip140)\" d=\"M814.002 1542.97 L818.886 1542.97 L818.886 1548.85 L814.002 1548.85 L814.002 1542.97 Z\" fill=\"#000000\" fill-rule=\"evenodd\" fill-opacity=\"1\" /><path clip-path=\"url(#clip140)\" d=\"M829.118 1514.29 L847.474 1514.29 L847.474 1518.22 L833.4 1518.22 L833.4 1526.7 Q834.418 1526.35 835.437 1526.19 Q836.455 1526 837.474 1526 Q843.261 1526 846.641 1529.17 Q850.02 1532.34 850.02 1537.76 Q850.02 1543.34 846.548 1546.44 Q843.076 1549.52 836.756 1549.52 Q834.58 1549.52 832.312 1549.15 Q830.067 1548.78 827.659 1548.04 L827.659 1543.34 Q829.742 1544.47 831.965 1545.03 Q834.187 1545.58 836.664 1545.58 Q840.668 1545.58 843.006 1543.48 Q845.344 1541.37 845.344 1537.76 Q845.344 1534.15 843.006 1532.04 Q840.668 1529.94 836.664 1529.94 Q834.789 1529.94 832.914 1530.35 Q831.062 1530.77 829.118 1531.65 L829.118 1514.29 Z\" fill=\"#000000\" fill-rule=\"evenodd\" fill-opacity=\"1\" /><path clip-path=\"url(#clip140)\" d=\"M1112.18 1544.91 L1128.5 1544.91 L1128.5 1548.85 L1106.55 1548.85 L1106.55 1544.91 Q1109.21 1542.16 1113.8 1537.53 Q1118.4 1532.88 1119.58 1531.53 Q1121.83 1529.01 1122.71 1527.27 Q1123.61 1525.51 1123.61 1523.82 Q1123.61 1521.07 1121.67 1519.33 Q1119.75 1517.6 1116.64 1517.6 Q1114.45 1517.6 1111.99 1518.36 Q1109.56 1519.13 1106.78 1520.68 L1106.78 1515.95 Q1109.61 1514.82 1112.06 1514.24 Q1114.52 1513.66 1116.55 1513.66 Q1121.92 1513.66 1125.12 1516.35 Q1128.31 1519.03 1128.31 1523.52 Q1128.31 1525.65 1127.5 1527.57 Q1126.71 1529.47 1124.61 1532.07 Q1124.03 1532.74 1120.93 1535.95 Q1117.83 1539.15 1112.18 1544.91 Z\" fill=\"#000000\" fill-rule=\"evenodd\" fill-opacity=\"1\" /><path clip-path=\"url(#clip140)\" d=\"M1138.31 1542.97 L1143.2 1542.97 L1143.2 1548.85 L1138.31 1548.85 L1138.31 1542.97 Z\" fill=\"#000000\" fill-rule=\"evenodd\" fill-opacity=\"1\" /><path clip-path=\"url(#clip140)\" d=\"M1163.38 1517.37 Q1159.77 1517.37 1157.94 1520.93 Q1156.14 1524.47 1156.14 1531.6 Q1156.14 1538.71 1157.94 1542.27 Q1159.77 1545.82 1163.38 1545.82 Q1167.01 1545.82 1168.82 1542.27 Q1170.65 1538.71 1170.65 1531.6 Q1170.65 1524.47 1168.82 1520.93 Q1167.01 1517.37 1163.38 1517.37 M1163.38 1513.66 Q1169.19 1513.66 1172.25 1518.27 Q1175.33 1522.85 1175.33 1531.6 Q1175.33 1540.33 1172.25 1544.94 Q1169.19 1549.52 1163.38 1549.52 Q1157.57 1549.52 1154.49 1544.94 Q1151.44 1540.33 1151.44 1531.6 Q1151.44 1522.85 1154.49 1518.27 Q1157.57 1513.66 1163.38 1513.66 Z\" fill=\"#000000\" fill-rule=\"evenodd\" fill-opacity=\"1\" /><path clip-path=\"url(#clip140)\" d=\"M1436.61 1544.91 L1452.93 1544.91 L1452.93 1548.85 L1430.99 1548.85 L1430.99 1544.91 Q1433.65 1542.16 1438.23 1537.53 Q1442.84 1532.88 1444.02 1531.53 Q1446.27 1529.01 1447.15 1527.27 Q1448.05 1525.51 1448.05 1523.82 Q1448.05 1521.07 1446.1 1519.33 Q1444.18 1517.6 1441.08 1517.6 Q1438.88 1517.6 1436.43 1518.36 Q1434 1519.13 1431.22 1520.68 L1431.22 1515.95 Q1434.04 1514.82 1436.5 1514.24 Q1438.95 1513.66 1440.99 1513.66 Q1446.36 1513.66 1449.55 1516.35 Q1452.75 1519.03 1452.75 1523.52 Q1452.75 1525.65 1451.94 1527.57 Q1451.15 1529.47 1449.04 1532.07 Q1448.47 1532.74 1445.36 1535.95 Q1442.26 1539.15 1436.61 1544.91 Z\" fill=\"#000000\" fill-rule=\"evenodd\" fill-opacity=\"1\" /><path clip-path=\"url(#clip140)\" d=\"M1462.75 1542.97 L1467.63 1542.97 L1467.63 1548.85 L1462.75 1548.85 L1462.75 1542.97 Z\" fill=\"#000000\" fill-rule=\"evenodd\" fill-opacity=\"1\" /><path clip-path=\"url(#clip140)\" d=\"M1477.86 1514.29 L1496.22 1514.29 L1496.22 1518.22 L1482.15 1518.22 L1482.15 1526.7 Q1483.16 1526.35 1484.18 1526.19 Q1485.2 1526 1486.22 1526 Q1492.01 1526 1495.39 1529.17 Q1498.77 1532.34 1498.77 1537.76 Q1498.77 1543.34 1495.29 1546.44 Q1491.82 1549.52 1485.5 1549.52 Q1483.33 1549.52 1481.06 1549.15 Q1478.81 1548.78 1476.41 1548.04 L1476.41 1543.34 Q1478.49 1544.47 1480.71 1545.03 Q1482.93 1545.58 1485.41 1545.58 Q1489.41 1545.58 1491.75 1543.48 Q1494.09 1541.37 1494.09 1537.76 Q1494.09 1534.15 1491.75 1532.04 Q1489.41 1529.94 1485.41 1529.94 Q1483.54 1529.94 1481.66 1530.35 Q1479.81 1530.77 1477.86 1531.65 L1477.86 1514.29 Z\" fill=\"#000000\" fill-rule=\"evenodd\" fill-opacity=\"1\" /><path clip-path=\"url(#clip140)\" d=\"M1770.12 1530.21 Q1773.48 1530.93 1775.36 1533.2 Q1777.25 1535.47 1777.25 1538.8 Q1777.25 1543.92 1773.74 1546.72 Q1770.22 1549.52 1763.74 1549.52 Q1761.56 1549.52 1759.25 1549.08 Q1756.95 1548.66 1754.5 1547.81 L1754.5 1543.29 Q1756.44 1544.43 1758.76 1545.01 Q1761.07 1545.58 1763.6 1545.58 Q1768 1545.58 1770.29 1543.85 Q1772.6 1542.11 1772.6 1538.8 Q1772.6 1535.75 1770.45 1534.03 Q1768.32 1532.3 1764.5 1532.3 L1760.47 1532.3 L1760.47 1528.45 L1764.68 1528.45 Q1768.13 1528.45 1769.96 1527.09 Q1771.79 1525.7 1771.79 1523.11 Q1771.79 1520.45 1769.89 1519.03 Q1768.02 1517.6 1764.5 1517.6 Q1762.58 1517.6 1760.38 1518.01 Q1758.18 1518.43 1755.54 1519.31 L1755.54 1515.14 Q1758.2 1514.4 1760.52 1514.03 Q1762.86 1513.66 1764.92 1513.66 Q1770.24 1513.66 1773.34 1516.09 Q1776.44 1518.5 1776.44 1522.62 Q1776.44 1525.49 1774.8 1527.48 Q1773.16 1529.45 1770.12 1530.21 Z\" fill=\"#000000\" fill-rule=\"evenodd\" fill-opacity=\"1\" /><path clip-path=\"url(#clip140)\" d=\"M1786.12 1542.97 L1791 1542.97 L1791 1548.85 L1786.12 1548.85 L1786.12 1542.97 Z\" fill=\"#000000\" fill-rule=\"evenodd\" fill-opacity=\"1\" /><path clip-path=\"url(#clip140)\" d=\"M1811.19 1517.37 Q1807.58 1517.37 1805.75 1520.93 Q1803.94 1524.47 1803.94 1531.6 Q1803.94 1538.71 1805.75 1542.27 Q1807.58 1545.82 1811.19 1545.82 Q1814.82 1545.82 1816.63 1542.27 Q1818.46 1538.71 1818.46 1531.6 Q1818.46 1524.47 1816.63 1520.93 Q1814.82 1517.37 1811.19 1517.37 M1811.19 1513.66 Q1817 1513.66 1820.06 1518.27 Q1823.13 1522.85 1823.13 1531.6 Q1823.13 1540.33 1820.06 1544.94 Q1817 1549.52 1811.19 1549.52 Q1805.38 1549.52 1802.3 1544.94 Q1799.24 1540.33 1799.24 1531.6 Q1799.24 1522.85 1802.3 1518.27 Q1805.38 1513.66 1811.19 1513.66 Z\" fill=\"#000000\" fill-rule=\"evenodd\" fill-opacity=\"1\" /><path clip-path=\"url(#clip140)\" d=\"M2094.56 1530.21 Q2097.92 1530.93 2099.79 1533.2 Q2101.69 1535.47 2101.69 1538.8 Q2101.69 1543.92 2098.17 1546.72 Q2094.65 1549.52 2088.17 1549.52 Q2086 1549.52 2083.68 1549.08 Q2081.39 1548.66 2078.94 1547.81 L2078.94 1543.29 Q2080.88 1544.43 2083.2 1545.01 Q2085.51 1545.58 2088.03 1545.58 Q2092.43 1545.58 2094.72 1543.85 Q2097.04 1542.11 2097.04 1538.8 Q2097.04 1535.75 2094.89 1534.03 Q2092.76 1532.3 2088.94 1532.3 L2084.91 1532.3 L2084.91 1528.45 L2089.12 1528.45 Q2092.57 1528.45 2094.4 1527.09 Q2096.23 1525.7 2096.23 1523.11 Q2096.23 1520.45 2094.33 1519.03 Q2092.46 1517.6 2088.94 1517.6 Q2087.02 1517.6 2084.82 1518.01 Q2082.62 1518.43 2079.98 1519.31 L2079.98 1515.14 Q2082.64 1514.4 2084.96 1514.03 Q2087.29 1513.66 2089.35 1513.66 Q2094.68 1513.66 2097.78 1516.09 Q2100.88 1518.5 2100.88 1522.62 Q2100.88 1525.49 2099.24 1527.48 Q2097.59 1529.45 2094.56 1530.21 Z\" fill=\"#000000\" fill-rule=\"evenodd\" fill-opacity=\"1\" /><path clip-path=\"url(#clip140)\" d=\"M2110.56 1542.97 L2115.44 1542.97 L2115.44 1548.85 L2110.56 1548.85 L2110.56 1542.97 Z\" fill=\"#000000\" fill-rule=\"evenodd\" fill-opacity=\"1\" /><path clip-path=\"url(#clip140)\" d=\"M2125.67 1514.29 L2144.03 1514.29 L2144.03 1518.22 L2129.95 1518.22 L2129.95 1526.7 Q2130.97 1526.35 2131.99 1526.19 Q2133.01 1526 2134.03 1526 Q2139.82 1526 2143.2 1529.17 Q2146.58 1532.34 2146.58 1537.76 Q2146.58 1543.34 2143.1 1546.44 Q2139.63 1549.52 2133.31 1549.52 Q2131.14 1549.52 2128.87 1549.15 Q2126.62 1548.78 2124.21 1548.04 L2124.21 1543.34 Q2126.3 1544.47 2128.52 1545.03 Q2130.74 1545.58 2133.22 1545.58 Q2137.22 1545.58 2139.56 1543.48 Q2141.9 1541.37 2141.9 1537.76 Q2141.9 1534.15 2139.56 1532.04 Q2137.22 1529.94 2133.22 1529.94 Q2131.34 1529.94 2129.47 1530.35 Q2127.62 1530.77 2125.67 1531.65 L2125.67 1514.29 Z\" fill=\"#000000\" fill-rule=\"evenodd\" fill-opacity=\"1\" /><polyline clip-path=\"url(#clip142)\" style=\"stroke:#000000; stroke-linecap:butt; stroke-linejoin:round; stroke-width:2; stroke-opacity:0.1; fill:none\" points=\"\n  169.121,1205.8 2112.76,1205.8 \n  \"/>\n<polyline clip-path=\"url(#clip142)\" style=\"stroke:#000000; stroke-linecap:butt; stroke-linejoin:round; stroke-width:2; stroke-opacity:0.1; fill:none\" points=\"\n  169.121,917.962 2112.76,917.962 \n  \"/>\n<polyline clip-path=\"url(#clip142)\" style=\"stroke:#000000; stroke-linecap:butt; stroke-linejoin:round; stroke-width:2; stroke-opacity:0.1; fill:none\" points=\"\n  169.121,630.122 2112.76,630.122 \n  \"/>\n<polyline clip-path=\"url(#clip142)\" style=\"stroke:#000000; stroke-linecap:butt; stroke-linejoin:round; stroke-width:2; stroke-opacity:0.1; fill:none\" points=\"\n  169.121,342.281 2112.76,342.281 \n  \"/>\n<polyline clip-path=\"url(#clip142)\" style=\"stroke:#000000; stroke-linecap:butt; stroke-linejoin:round; stroke-width:2; stroke-opacity:0.1; fill:none\" points=\"\n  169.121,54.4401 2112.76,54.4401 \n  \"/>\n<polyline clip-path=\"url(#clip140)\" style=\"stroke:#000000; stroke-linecap:butt; stroke-linejoin:round; stroke-width:4; stroke-opacity:1; fill:none\" points=\"\n  169.121,1486.45 169.121,47.2441 \n  \"/>\n<polyline clip-path=\"url(#clip140)\" style=\"stroke:#000000; stroke-linecap:butt; stroke-linejoin:round; stroke-width:4; stroke-opacity:1; fill:none\" points=\"\n  169.121,1205.8 185.942,1205.8 \n  \"/>\n<polyline clip-path=\"url(#clip140)\" style=\"stroke:#000000; stroke-linecap:butt; stroke-linejoin:round; stroke-width:4; stroke-opacity:1; fill:none\" points=\"\n  169.121,917.962 185.942,917.962 \n  \"/>\n<polyline clip-path=\"url(#clip140)\" style=\"stroke:#000000; stroke-linecap:butt; stroke-linejoin:round; stroke-width:4; stroke-opacity:1; fill:none\" points=\"\n  169.121,630.122 185.942,630.122 \n  \"/>\n<polyline clip-path=\"url(#clip140)\" style=\"stroke:#000000; stroke-linecap:butt; stroke-linejoin:round; stroke-width:4; stroke-opacity:1; fill:none\" points=\"\n  169.121,342.281 185.942,342.281 \n  \"/>\n<polyline clip-path=\"url(#clip140)\" style=\"stroke:#000000; stroke-linecap:butt; stroke-linejoin:round; stroke-width:4; stroke-opacity:1; fill:none\" points=\"\n  169.121,54.4401 185.942,54.4401 \n  \"/>\n<path clip-path=\"url(#clip140)\" d=\"M85.0429 1219.15 L101.362 1219.15 L101.362 1223.08 L79.4179 1223.08 L79.4179 1219.15 Q82.0799 1216.39 86.6632 1211.76 Q91.2697 1207.11 92.4502 1205.77 Q94.6956 1203.25 95.5752 1201.51 Q96.478 1199.75 96.478 1198.06 Q96.478 1195.31 94.5336 1193.57 Q92.6123 1191.83 89.5104 1191.83 Q87.3114 1191.83 84.8577 1192.6 Q82.4271 1193.36 79.6494 1194.91 L79.6494 1190.19 Q82.4734 1189.06 84.9271 1188.48 Q87.3808 1187.9 89.4178 1187.9 Q94.7882 1187.9 97.9826 1190.58 Q101.177 1193.27 101.177 1197.76 Q101.177 1199.89 100.367 1201.81 Q99.5798 1203.71 97.4734 1206.3 Q96.8947 1206.97 93.7928 1210.19 Q90.691 1213.38 85.0429 1219.15 Z\" fill=\"#000000\" fill-rule=\"evenodd\" fill-opacity=\"1\" /><path clip-path=\"url(#clip140)\" d=\"M121.177 1191.6 Q117.566 1191.6 115.737 1195.17 Q113.932 1198.71 113.932 1205.84 Q113.932 1212.94 115.737 1216.51 Q117.566 1220.05 121.177 1220.05 Q124.811 1220.05 126.617 1216.51 Q128.445 1212.94 128.445 1205.84 Q128.445 1198.71 126.617 1195.17 Q124.811 1191.6 121.177 1191.6 M121.177 1187.9 Q126.987 1187.9 130.043 1192.5 Q133.121 1197.09 133.121 1205.84 Q133.121 1214.56 130.043 1219.17 Q126.987 1223.75 121.177 1223.75 Q115.367 1223.75 112.288 1219.17 Q109.233 1214.56 109.233 1205.84 Q109.233 1197.09 112.288 1192.5 Q115.367 1187.9 121.177 1187.9 Z\" fill=\"#000000\" fill-rule=\"evenodd\" fill-opacity=\"1\" /><path clip-path=\"url(#clip140)\" d=\"M93.8623 904.756 L82.0568 923.205 L93.8623 923.205 L93.8623 904.756 M92.6354 900.682 L98.515 900.682 L98.515 923.205 L103.446 923.205 L103.446 927.094 L98.515 927.094 L98.515 935.242 L93.8623 935.242 L93.8623 927.094 L78.2605 927.094 L78.2605 922.58 L92.6354 900.682 Z\" fill=\"#000000\" fill-rule=\"evenodd\" fill-opacity=\"1\" /><path clip-path=\"url(#clip140)\" d=\"M121.177 903.761 Q117.566 903.761 115.737 907.326 Q113.932 910.868 113.932 917.997 Q113.932 925.104 115.737 928.668 Q117.566 932.21 121.177 932.21 Q124.811 932.21 126.617 928.668 Q128.445 925.104 128.445 917.997 Q128.445 910.868 126.617 907.326 Q124.811 903.761 121.177 903.761 M121.177 900.057 Q126.987 900.057 130.043 904.664 Q133.121 909.247 133.121 917.997 Q133.121 926.724 130.043 931.33 Q126.987 935.914 121.177 935.914 Q115.367 935.914 112.288 931.33 Q109.233 926.724 109.233 917.997 Q109.233 909.247 112.288 904.664 Q115.367 900.057 121.177 900.057 Z\" fill=\"#000000\" fill-rule=\"evenodd\" fill-opacity=\"1\" /><path clip-path=\"url(#clip140)\" d=\"M91.5938 628.258 Q88.4456 628.258 86.5938 630.411 Q84.7651 632.564 84.7651 636.314 Q84.7651 640.041 86.5938 642.216 Q88.4456 644.369 91.5938 644.369 Q94.7419 644.369 96.5706 642.216 Q98.4224 640.041 98.4224 636.314 Q98.4224 632.564 96.5706 630.411 Q94.7419 628.258 91.5938 628.258 M100.876 613.606 L100.876 617.865 Q99.1169 617.031 97.3113 616.592 Q95.5289 616.152 93.7697 616.152 Q89.1401 616.152 86.6864 619.277 Q84.2558 622.402 83.9086 628.721 Q85.2743 626.707 87.3345 625.642 Q89.3947 624.555 91.8715 624.555 Q97.0798 624.555 100.089 627.726 Q103.121 630.874 103.121 636.314 Q103.121 641.638 99.9733 644.855 Q96.8252 648.073 91.5938 648.073 Q85.5984 648.073 82.4271 643.49 Q79.2559 638.883 79.2559 630.156 Q79.2559 621.962 83.1447 617.101 Q87.0336 612.217 93.5845 612.217 Q95.3437 612.217 97.1261 612.564 Q98.9317 612.911 100.876 613.606 Z\" fill=\"#000000\" fill-rule=\"evenodd\" fill-opacity=\"1\" /><path clip-path=\"url(#clip140)\" d=\"M121.177 615.92 Q117.566 615.92 115.737 619.485 Q113.932 623.027 113.932 630.156 Q113.932 637.263 115.737 640.828 Q117.566 644.369 121.177 644.369 Q124.811 644.369 126.617 640.828 Q128.445 637.263 128.445 630.156 Q128.445 623.027 126.617 619.485 Q124.811 615.92 121.177 615.92 M121.177 612.217 Q126.987 612.217 130.043 616.823 Q133.121 621.406 133.121 630.156 Q133.121 638.883 130.043 643.49 Q126.987 648.073 121.177 648.073 Q115.367 648.073 112.288 643.49 Q109.233 638.883 109.233 630.156 Q109.233 621.406 112.288 616.823 Q115.367 612.217 121.177 612.217 Z\" fill=\"#000000\" fill-rule=\"evenodd\" fill-opacity=\"1\" /><path clip-path=\"url(#clip140)\" d=\"M91.0151 343.149 Q87.6817 343.149 85.7605 344.931 Q83.8623 346.714 83.8623 349.839 Q83.8623 352.964 85.7605 354.746 Q87.6817 356.528 91.0151 356.528 Q94.3484 356.528 96.2697 354.746 Q98.1909 352.941 98.1909 349.839 Q98.1909 346.714 96.2697 344.931 Q94.3715 343.149 91.0151 343.149 M86.3392 341.158 Q83.3299 340.417 81.6401 338.357 Q79.9735 336.297 79.9735 333.334 Q79.9735 329.191 82.9133 326.783 Q85.8762 324.376 91.0151 324.376 Q96.1771 324.376 99.1169 326.783 Q102.057 329.191 102.057 333.334 Q102.057 336.297 100.367 338.357 Q98.7002 340.417 95.7141 341.158 Q99.0937 341.945 100.969 344.237 Q102.867 346.529 102.867 349.839 Q102.867 354.862 99.7882 357.547 Q96.7326 360.232 91.0151 360.232 Q85.2975 360.232 82.2188 357.547 Q79.1633 354.862 79.1633 349.839 Q79.1633 346.529 81.0614 344.237 Q82.9595 341.945 86.3392 341.158 M84.6262 333.774 Q84.6262 336.459 86.2929 337.964 Q87.9827 339.468 91.0151 339.468 Q94.0243 339.468 95.7141 337.964 Q97.4271 336.459 97.4271 333.774 Q97.4271 331.089 95.7141 329.584 Q94.0243 328.08 91.0151 328.08 Q87.9827 328.08 86.2929 329.584 Q84.6262 331.089 84.6262 333.774 Z\" fill=\"#000000\" fill-rule=\"evenodd\" fill-opacity=\"1\" /><path clip-path=\"url(#clip140)\" d=\"M121.177 328.08 Q117.566 328.08 115.737 331.644 Q113.932 335.186 113.932 342.316 Q113.932 349.422 115.737 352.987 Q117.566 356.528 121.177 356.528 Q124.811 356.528 126.617 352.987 Q128.445 349.422 128.445 342.316 Q128.445 335.186 126.617 331.644 Q124.811 328.08 121.177 328.08 M121.177 324.376 Q126.987 324.376 130.043 328.982 Q133.121 333.566 133.121 342.316 Q133.121 351.042 130.043 355.649 Q126.987 360.232 121.177 360.232 Q115.367 360.232 112.288 355.649 Q109.233 351.042 109.233 342.316 Q109.233 333.566 112.288 328.982 Q115.367 324.376 121.177 324.376 Z\" fill=\"#000000\" fill-rule=\"evenodd\" fill-opacity=\"1\" /><path clip-path=\"url(#clip140)\" d=\"M51.6634 67.7849 L59.3023 67.7849 L59.3023 41.4193 L50.9921 43.086 L50.9921 38.8268 L59.256 37.1601 L63.9319 37.1601 L63.9319 67.7849 L71.5707 67.7849 L71.5707 71.7201 L51.6634 71.7201 L51.6634 67.7849 Z\" fill=\"#000000\" fill-rule=\"evenodd\" fill-opacity=\"1\" /><path clip-path=\"url(#clip140)\" d=\"M91.0151 40.2388 Q87.404 40.2388 85.5753 43.8036 Q83.7697 47.3452 83.7697 54.4748 Q83.7697 61.5813 85.5753 65.1461 Q87.404 68.6877 91.0151 68.6877 Q94.6493 68.6877 96.4548 65.1461 Q98.2835 61.5813 98.2835 54.4748 Q98.2835 47.3452 96.4548 43.8036 Q94.6493 40.2388 91.0151 40.2388 M91.0151 36.5351 Q96.8252 36.5351 99.8808 41.1416 Q102.959 45.7249 102.959 54.4748 Q102.959 63.2016 99.8808 67.8081 Q96.8252 72.3914 91.0151 72.3914 Q85.2049 72.3914 82.1262 67.8081 Q79.0707 63.2016 79.0707 54.4748 Q79.0707 45.7249 82.1262 41.1416 Q85.2049 36.5351 91.0151 36.5351 Z\" fill=\"#000000\" fill-rule=\"evenodd\" fill-opacity=\"1\" /><path clip-path=\"url(#clip140)\" d=\"M121.177 40.2388 Q117.566 40.2388 115.737 43.8036 Q113.932 47.3452 113.932 54.4748 Q113.932 61.5813 115.737 65.1461 Q117.566 68.6877 121.177 68.6877 Q124.811 68.6877 126.617 65.1461 Q128.445 61.5813 128.445 54.4748 Q128.445 47.3452 126.617 43.8036 Q124.811 40.2388 121.177 40.2388 M121.177 36.5351 Q126.987 36.5351 130.043 41.1416 Q133.121 45.7249 133.121 54.4748 Q133.121 63.2016 130.043 67.8081 Q126.987 72.3914 121.177 72.3914 Q115.367 72.3914 112.288 67.8081 Q109.233 63.2016 109.233 54.4748 Q109.233 45.7249 112.288 41.1416 Q115.367 36.5351 121.177 36.5351 Z\" fill=\"#000000\" fill-rule=\"evenodd\" fill-opacity=\"1\" /><g clip-path=\"url(#clip142)\">\n<image width=\"1944\" height=\"1439\" xlink:href=\"data:image/png;base64,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\nAEgEZgAAAAAAAACS/wDcXaFUqWIA6AAAAABJRU5ErkJggg==\n\" transform=\"translate(169, 47)\"/>\n</g>\n<defs>\n  <clipPath id=\"clip143\">\n    <rect x=\"2160\" y=\"47\" width=\"73\" height=\"1440\"/>\n  </clipPath>\n</defs>\n<g clip-path=\"url(#clip143)\">\n<image width=\"72\" height=\"1439\" xlink:href=\"data:image/png;base64,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\nBYGCQOE/LrLuTX/wFc8AAAAASUVORK5CYII=\n\" transform=\"translate(2161, 47)\"/>\n</g>\n<path clip-path=\"url(#clip140)\" d=\"M2280.7 1468.62 Q2277.09 1468.62 2275.26 1472.18 Q2273.45 1475.72 2273.45 1482.85 Q2273.45 1489.96 2275.26 1493.53 Q2277.09 1497.07 2280.7 1497.07 Q2284.33 1497.07 2286.14 1493.53 Q2287.97 1489.96 2287.97 1482.85 Q2287.97 1475.72 2286.14 1472.18 Q2284.33 1468.62 2280.7 1468.62 M2280.7 1464.91 Q2286.51 1464.91 2289.57 1469.52 Q2292.64 1474.1 2292.64 1482.85 Q2292.64 1491.58 2289.57 1496.19 Q2286.51 1500.77 2280.7 1500.77 Q2274.89 1500.77 2271.81 1496.19 Q2268.76 1491.58 2268.76 1482.85 Q2268.76 1474.1 2271.81 1469.52 Q2274.89 1464.91 2280.7 1464.91 Z\" fill=\"#000000\" fill-rule=\"evenodd\" fill-opacity=\"1\" /><path clip-path=\"url(#clip140)\" d=\"M2269.43 1352.24 L2277.07 1352.24 L2277.07 1325.88 L2268.76 1327.54 L2268.76 1323.29 L2277.02 1321.62 L2281.7 1321.62 L2281.7 1352.24 L2289.33 1352.24 L2289.33 1356.18 L2269.43 1356.18 L2269.43 1352.24 Z\" fill=\"#000000\" fill-rule=\"evenodd\" fill-opacity=\"1\" /><path clip-path=\"url(#clip140)\" d=\"M2274.38 1208.32 L2290.7 1208.32 L2290.7 1212.26 L2268.76 1212.26 L2268.76 1208.32 Q2271.42 1205.57 2276 1200.94 Q2280.61 1196.29 2281.79 1194.94 Q2284.03 1192.42 2284.91 1190.68 Q2285.82 1188.93 2285.82 1187.24 Q2285.82 1184.48 2283.87 1182.74 Q2281.95 1181.01 2278.85 1181.01 Q2276.65 1181.01 2274.2 1181.77 Q2271.77 1182.54 2268.99 1184.09 L2268.99 1179.36 Q2271.81 1178.23 2274.27 1177.65 Q2276.72 1177.07 2278.76 1177.07 Q2284.13 1177.07 2287.32 1179.76 Q2290.52 1182.44 2290.52 1186.93 Q2290.52 1189.06 2289.7 1190.99 Q2288.92 1192.88 2286.81 1195.48 Q2286.23 1196.15 2283.13 1199.36 Q2280.03 1202.56 2274.38 1208.32 Z\" fill=\"#000000\" fill-rule=\"evenodd\" fill-opacity=\"1\" /><path clip-path=\"url(#clip140)\" d=\"M2284.38 1049.7 Q2287.74 1050.42 2289.61 1052.69 Q2291.51 1054.96 2291.51 1058.29 Q2291.51 1063.41 2287.99 1066.21 Q2284.47 1069.01 2277.99 1069.01 Q2275.82 1069.01 2273.5 1068.57 Q2271.21 1068.15 2268.76 1067.3 L2268.76 1062.78 Q2270.7 1063.92 2273.02 1064.5 Q2275.33 1065.07 2277.85 1065.07 Q2282.25 1065.07 2284.54 1063.34 Q2286.86 1061.6 2286.86 1058.29 Q2286.86 1055.24 2284.7 1053.52 Q2282.58 1051.79 2278.76 1051.79 L2274.73 1051.79 L2274.73 1047.94 L2278.94 1047.94 Q2282.39 1047.94 2284.22 1046.58 Q2286.05 1045.19 2286.05 1042.6 Q2286.05 1039.94 2284.15 1038.52 Q2282.27 1037.09 2278.76 1037.09 Q2276.83 1037.09 2274.64 1037.5 Q2272.44 1037.92 2269.8 1038.8 L2269.8 1034.63 Q2272.46 1033.89 2274.77 1033.52 Q2277.11 1033.15 2279.17 1033.15 Q2284.5 1033.15 2287.6 1035.58 Q2290.7 1037.99 2290.7 1042.11 Q2290.7 1044.98 2289.06 1046.97 Q2287.41 1048.94 2284.38 1049.7 Z\" fill=\"#000000\" fill-rule=\"evenodd\" fill-opacity=\"1\" /><path clip-path=\"url(#clip140)\" d=\"M2284.36 893.932 L2272.55 912.381 L2284.36 912.381 L2284.36 893.932 M2283.13 889.858 L2289.01 889.858 L2289.01 912.381 L2293.94 912.381 L2293.94 916.269 L2289.01 916.269 L2289.01 924.418 L2284.36 924.418 L2284.36 916.269 L2268.76 916.269 L2268.76 911.756 L2283.13 889.858 Z\" fill=\"#000000\" fill-rule=\"evenodd\" fill-opacity=\"1\" /><path clip-path=\"url(#clip140)\" d=\"M2270.21 745.937 L2288.57 745.937 L2288.57 749.872 L2274.5 749.872 L2274.5 758.345 Q2275.52 757.997 2276.53 757.835 Q2277.55 757.65 2278.57 757.65 Q2284.36 757.65 2287.74 760.821 Q2291.12 763.993 2291.12 769.409 Q2291.12 774.988 2287.64 778.09 Q2284.17 781.168 2277.85 781.168 Q2275.68 781.168 2273.41 780.798 Q2271.16 780.428 2268.76 779.687 L2268.76 774.988 Q2270.84 776.122 2273.06 776.678 Q2275.28 777.233 2277.76 777.233 Q2281.77 777.233 2284.1 775.127 Q2286.44 773.02 2286.44 769.409 Q2286.44 765.798 2284.1 763.692 Q2281.77 761.585 2277.76 761.585 Q2275.89 761.585 2274.01 762.002 Q2272.16 762.419 2270.21 763.298 L2270.21 745.937 Z\" fill=\"#000000\" fill-rule=\"evenodd\" fill-opacity=\"1\" /><path clip-path=\"url(#clip140)\" d=\"M2281.09 617.433 Q2277.95 617.433 2276.09 619.586 Q2274.27 621.739 2274.27 625.489 Q2274.27 629.216 2276.09 631.392 Q2277.95 633.544 2281.09 633.544 Q2284.24 633.544 2286.07 631.392 Q2287.92 629.216 2287.92 625.489 Q2287.92 621.739 2286.07 619.586 Q2284.24 617.433 2281.09 617.433 M2290.38 602.781 L2290.38 607.04 Q2288.62 606.207 2286.81 605.767 Q2285.03 605.327 2283.27 605.327 Q2278.64 605.327 2276.19 608.452 Q2273.76 611.577 2273.41 617.896 Q2274.77 615.882 2276.83 614.818 Q2278.89 613.73 2281.37 613.73 Q2286.58 613.73 2289.59 616.901 Q2292.62 620.049 2292.62 625.489 Q2292.62 630.813 2289.47 634.031 Q2286.33 637.248 2281.09 637.248 Q2275.1 637.248 2271.93 632.665 Q2268.76 628.058 2268.76 619.332 Q2268.76 611.137 2272.64 606.276 Q2276.53 601.392 2283.08 601.392 Q2284.84 601.392 2286.63 601.739 Q2288.43 602.086 2290.38 602.781 Z\" fill=\"#000000\" fill-rule=\"evenodd\" fill-opacity=\"1\" /><path clip-path=\"url(#clip140)\" d=\"M2268.76 458.096 L2290.98 458.096 L2290.98 460.087 L2278.43 492.656 L2273.55 492.656 L2285.35 462.032 L2268.76 462.032 L2268.76 458.096 Z\" fill=\"#000000\" fill-rule=\"evenodd\" fill-opacity=\"1\" /><path clip-path=\"url(#clip140)\" d=\"M2280.61 332.324 Q2277.27 332.324 2275.35 334.106 Q2273.45 335.889 2273.45 339.014 Q2273.45 342.139 2275.35 343.921 Q2277.27 345.704 2280.61 345.704 Q2283.94 345.704 2285.86 343.921 Q2287.78 342.116 2287.78 339.014 Q2287.78 335.889 2285.86 334.106 Q2283.96 332.324 2280.61 332.324 M2275.93 330.333 Q2272.92 329.593 2271.23 327.532 Q2269.57 325.472 2269.57 322.509 Q2269.57 318.366 2272.51 315.958 Q2275.47 313.551 2280.61 313.551 Q2285.77 313.551 2288.71 315.958 Q2291.65 318.366 2291.65 322.509 Q2291.65 325.472 2289.96 327.532 Q2288.29 329.593 2285.31 330.333 Q2288.69 331.12 2290.56 333.412 Q2292.46 335.704 2292.46 339.014 Q2292.46 344.037 2289.38 346.722 Q2286.33 349.407 2280.61 349.407 Q2274.89 349.407 2271.81 346.722 Q2268.76 344.037 2268.76 339.014 Q2268.76 335.704 2270.65 333.412 Q2272.55 331.12 2275.93 330.333 M2274.22 322.949 Q2274.22 325.634 2275.89 327.139 Q2277.58 328.644 2280.61 328.644 Q2283.62 328.644 2285.31 327.139 Q2287.02 325.634 2287.02 322.949 Q2287.02 320.264 2285.31 318.759 Q2283.62 317.255 2280.61 317.255 Q2277.58 317.255 2275.89 318.759 Q2274.22 320.264 2274.22 322.949 Z\" fill=\"#000000\" fill-rule=\"evenodd\" fill-opacity=\"1\" /><path clip-path=\"url(#clip140)\" d=\"M2270.98 204.098 L2270.98 199.839 Q2272.74 200.672 2274.54 201.112 Q2276.35 201.552 2278.08 201.552 Q2282.71 201.552 2285.14 198.45 Q2287.6 195.325 2287.95 188.982 Q2286.6 190.973 2284.54 192.038 Q2282.48 193.103 2279.98 193.103 Q2274.8 193.103 2271.77 189.978 Q2268.76 186.83 2268.76 181.39 Q2268.76 176.066 2271.9 172.848 Q2275.05 169.631 2280.28 169.631 Q2286.28 169.631 2289.43 174.237 Q2292.6 178.82 2292.6 187.57 Q2292.6 195.742 2288.71 200.626 Q2284.84 205.487 2278.29 205.487 Q2276.53 205.487 2274.73 205.14 Q2272.92 204.793 2270.98 204.098 M2280.28 189.445 Q2283.43 189.445 2285.26 187.293 Q2287.11 185.14 2287.11 181.39 Q2287.11 177.663 2285.26 175.51 Q2283.43 173.334 2280.28 173.334 Q2277.14 173.334 2275.28 175.51 Q2273.45 177.663 2273.45 181.39 Q2273.45 185.14 2275.28 187.293 Q2277.14 189.445 2280.28 189.445 Z\" fill=\"#000000\" fill-rule=\"evenodd\" fill-opacity=\"1\" /><path clip-path=\"url(#clip140)\" d=\"M2269.43 56.9601 L2277.07 56.9601 L2277.07 30.5945 L2268.76 32.2612 L2268.76 28.002 L2277.02 26.3353 L2281.7 26.3353 L2281.7 56.9601 L2289.33 56.9601 L2289.33 60.8953 L2269.43 60.8953 L2269.43 56.9601 Z\" fill=\"#000000\" fill-rule=\"evenodd\" fill-opacity=\"1\" /><path clip-path=\"url(#clip140)\" d=\"M2308.78 29.414 Q2305.17 29.414 2303.34 32.9788 Q2301.53 36.5204 2301.53 43.65 Q2301.53 50.7565 2303.34 54.3213 Q2305.17 57.8629 2308.78 57.8629 Q2312.41 57.8629 2314.22 54.3213 Q2316.05 50.7565 2316.05 43.65 Q2316.05 36.5204 2314.22 32.9788 Q2312.41 29.414 2308.78 29.414 M2308.78 25.7103 Q2314.59 25.7103 2317.64 30.3168 Q2320.72 34.9001 2320.72 43.65 Q2320.72 52.3768 2317.64 56.9833 Q2314.59 61.5666 2308.78 61.5666 Q2302.97 61.5666 2299.89 56.9833 Q2296.83 52.3768 2296.83 43.65 Q2296.83 34.9001 2299.89 30.3168 Q2302.97 25.7103 2308.78 25.7103 Z\" fill=\"#000000\" fill-rule=\"evenodd\" fill-opacity=\"1\" /><polyline clip-path=\"url(#clip140)\" style=\"stroke:#000000; stroke-linecap:butt; stroke-linejoin:round; stroke-width:4; stroke-opacity:1; fill:none\" points=\"\n  2232.76,1486.45 2232.76,1486.45 2256.76,1486.45 2232.76,1486.45 2232.76,1342.53 2256.76,1342.53 2232.76,1342.53 2232.76,1198.61 2256.76,1198.61 2232.76,1198.61 \n  2232.76,1054.69 2256.76,1054.69 2232.76,1054.69 2232.76,910.766 2256.76,910.766 2232.76,910.766 2232.76,766.846 2256.76,766.846 2232.76,766.846 2232.76,622.926 \n  2256.76,622.926 2232.76,622.926 2232.76,479.005 2256.76,479.005 2232.76,479.005 2232.76,335.085 2256.76,335.085 2232.76,335.085 2232.76,191.164 2256.76,191.164 \n  2232.76,191.164 2232.76,47.2441 2256.76,47.2441 2232.76,47.2441 \n  \"/>\n</svg>\n"
     },
     "execution_count": 28,
     "metadata": {},
     "output_type": "execute_result"
    },
    {
     "name": "stderr",
     "output_type": "stream",
     "text": [
      "\u001b[32mProgress:  92%|██████████████████████████████████████   |  ETA: 0:00:19\u001b[39m\u0000\u0000\u0000\u0000\u0000\u0000\u0000\u0000\u0000\u0000\u0000\u0000\u0000\u0000\u0000\u0000\u0000\u0000\u0000\u0000\u0000\u0000\u0000\u0000\u0000\u0000\u0000\u0000\u0000\u0000\u0000\u0000\u0000\u0000\u0000\u0000\u0000\u0000\u0000\u0000\u0000\u0000\u0000\u0000\u0000\u0000\u0000\u0000\u0000\u0000\u0000\u0000\u0000\u0000\u0000\u0000\u0000\u0000\u0000\u0000\u0000\u0000\u0000\u0000\u0000\u0000\u0000\u0000\u0000\u0000\u0000\u00001:20\u001b[39m"
     ]
    }
   ],
   "source": [
    "heatmap(heatmap_values)"
   ]
  },
  {
   "cell_type": "code",
   "execution_count": 29,
   "metadata": {},
   "outputs": [
    {
     "ename": "LoadError",
     "evalue": "\u001b[91mArgumentError: a 'Array{Float64,2}' is not a table; see `?Tables.table` for ways to treat an AbstractVecOrMat as a table\u001b[39m",
     "output_type": "error",
     "traceback": [
      "\u001b[91mArgumentError: a 'Array{Float64,2}' is not a table; see `?Tables.table` for ways to treat an AbstractVecOrMat as a table\u001b[39m",
      "",
      "Stacktrace:",
      " [1] rows(::Array{Float64,2}) at C:\\Users\\isaac\\.julia\\packages\\Tables\\OWzlh\\src\\matrix.jl:4",
      " [2] write(::String, ::Array{Float64,2}; delim::Char, quotechar::Char, openquotechar::Nothing, closequotechar::Nothing, escapechar::Char, newline::Char, decimal::Char, dateformat::Nothing, quotestrings::Bool, missingstring::String, transform::typeof(CSV._identity), bom::Bool, append::Bool, compress::Bool, writeheader::Nothing, partition::Bool, kwargs::Base.Iterators.Pairs{Union{},Union{},Tuple{},NamedTuple{(),Tuple{}}}) at C:\\Users\\isaac\\.julia\\packages\\CSV\\9LsxT\\src\\write.jl:208",
      " [3] write(::String, ::Array{Float64,2}) at C:\\Users\\isaac\\.julia\\packages\\CSV\\9LsxT\\src\\write.jl:171",
      " [4] top-level scope at In[29]:1",
      " [5] include_string(::Function, ::Module, ::String, ::String) at .\\loading.jl:1091"
     ]
    }
   ],
   "source": [
    "CSV.write(\"file.csv\", heatmap_values)"
   ]
  },
  {
   "cell_type": "code",
   "execution_count": 30,
   "metadata": {},
   "outputs": [
    {
     "data": {
      "text/plain": [
       "100×3 Array{Float64,2}:\n",
       " 0.1            0.1           0.522673\n",
       " 0.1            1.2           0.521389\n",
       " 0.1            2.3           0.521088\n",
       " 0.1            3.4           0.520629\n",
       " 0.1            4.5           0.520155\n",
       " 0.1            5.6           0.519622\n",
       " 0.1            6.7           0.518923\n",
       " 0.1            7.8           0.518202\n",
       " 0.1            8.9           0.51756\n",
       " 0.1           10.0           0.516961\n",
       " 1.2            0.1           0.526468\n",
       " 1.2            1.2           0.5234\n",
       " 1.2            2.3           0.431146\n",
       " ⋮                            \n",
       " 0.0            2.45249e-315  0.0\n",
       " 0.0            0.0           0.0\n",
       " 7.68547e-316   0.0           8.77305e-316\n",
       " 0.0            0.0           1.265e-321\n",
       " 0.0            8.79003e-316  0.0\n",
       " 0.0            1.39804e-76   7.68547e-316\n",
       " 8.77305e-316   0.0           0.0\n",
       " 6.0264e-315    1.43867e-314  0.0\n",
       " 0.0            0.0           0.0\n",
       " 1.43867e-314   0.0           8.77305e-316\n",
       " 0.0            0.0           6.0264e-315\n",
       " 0.0            8.7901e-316   0.0"
      ]
     },
     "execution_count": 30,
     "metadata": {},
     "output_type": "execute_result"
    }
   ],
   "source": [
    "heatmap_values"
   ]
  },
  {
   "cell_type": "code",
   "execution_count": 31,
   "metadata": {},
   "outputs": [
    {
     "ename": "LoadError",
     "evalue": "\u001b[91mDomainError with 1.25:\u001b[39m\n\u001b[91macos(x) not defined for |x| > 1\u001b[39m",
     "output_type": "error",
     "traceback": [
      "\u001b[91mDomainError with 1.25:\u001b[39m\n\u001b[91macos(x) not defined for |x| > 1\u001b[39m",
      "",
      "Stacktrace:",
      " [1] acos_domain_error(::Float64) at .\\special\\trig.jl:671",
      " [2] acos(::Float64) at .\\special\\trig.jl:701",
      " [3] energy_section(::Parameters, ::Float64; div::Tuple{Int64,Int64,Int64}) at .\\In[12]:23",
      " [4] PoincareSection(::Parameters, ::Float64; div::Tuple{Int64,Int64,Int64}, tfinal::Float64) at .\\In[15]:7",
      " [5] PoincareSection(::Parameters, ::Float64) at .\\In[15]:7",
      " [6] top-level scope at In[31]:1",
      " [7] include_string(::Function, ::Module, ::String, ::String) at .\\loading.jl:1091"
     ]
    }
   ],
   "source": [
    "section = PoincareSection(Parameters(1.,1.), energy(Parameters(1.,1.), State(0.,0.,0.,1.)))\n",
    "dim = correlationdimension(section)"
   ]
  },
  {
   "cell_type": "markdown",
   "metadata": {},
   "source": [
    "# Sandbox"
   ]
  },
  {
   "cell_type": "code",
   "execution_count": 84,
   "metadata": {},
   "outputs": [
    {
     "name": "stdout",
     "output_type": "stream",
     "text": [
      "  0.000110 seconds (4 allocations: 64.156 KiB)\n"
     ]
    },
    {
     "data": {
      "text/plain": [
       "1024-element StateVector:\n",
       " [0.0, 0.0, 0.0, 3.4641016151377544]\n",
       " [0.0, 0.0, 0.0, -3.4641016151377544]\n",
       " [0.0, 0.0, 0.2857883832488647, 2.748046706126839]\n",
       " [0.0, 0.0, 0.2857883832488647, -3.891200239122298]\n",
       " [0.0, 0.0, 0.5715767664977294, 1.6993101870896365]\n",
       " [0.0, 0.0, 0.5715767664977294, -3.985617253080554]\n",
       " [0.0, 0.0, 0.8573651497465942, 0.06827278519286994]\n",
       " [0.0, 0.0, 0.8573651497465942, -3.4977333841792464]\n",
       " [0.0, 0.4487989505128276, 0.0, 3.4064461644960238]\n",
       " [0.0, 0.4487989505128276, 0.0, -3.4064461644960238]\n",
       " [0.0, 0.4487989505128276, 0.281031808570922, 2.748848743553096]\n",
       " [0.0, 0.4487989505128276, 0.281031808570922, -3.761652385203948]\n",
       " [0.0, 0.4487989505128276, 0.562063617141844, 1.7394678806953223]\n",
       " ⋮\n",
       " [0.7227342478134157, 1.332932883023098, 0.16018662539423478, 0.5126122286780034]\n",
       " [0.7227342478134157, 1.332932883023098, 0.16018662539423478, -1.037725906676178]\n",
       " [0.7227342478134157, 1.332932883023098, 0.2402799380913522, 0.02313248786912178]\n",
       " [0.7227342478134157, 1.332932883023098, 0.2402799380913522, -0.8108030048663837]\n",
       " [0.7227342478134157, 1.5550883635269477, 0.0, 0.2506576734258949]\n",
       " [0.7227342478134157, 1.5550883635269477, 0.0, -0.2506576734258949]\n",
       " [0.7227342478134157, 1.5550883635269477, 0.02067925805763633, 0.21040830425670692]\n",
       " [0.7227342478134157, 1.5550883635269477, 0.02067925805763633, -0.2660881756736504]\n",
       " [0.7227342478134157, 1.5550883635269477, 0.04135851611527266, 0.14068990131851009]\n",
       " [0.7227342478134157, 1.5550883635269477, 0.04135851611527266, -0.2520496441523969]\n",
       " [0.7227342478134157, 1.5550883635269477, 0.06203777417290899, 0.007176723350052736]\n",
       " [0.7227342478134157, 1.5550883635269477, 0.06203777417290899, -0.17421633760088295]"
      ]
     },
     "execution_count": 84,
     "metadata": {},
     "output_type": "execute_result"
    }
   ],
   "source": [
    "@time energy_section(p, -1.)"
   ]
  },
  {
   "cell_type": "code",
   "execution_count": 39,
   "metadata": {},
   "outputs": [
    {
     "data": {
      "text/plain": [
       "2"
      ]
     },
     "execution_count": 39,
     "metadata": {},
     "output_type": "execute_result"
    }
   ],
   "source": [
    "n += 1"
   ]
  },
  {
   "cell_type": "code",
   "execution_count": 37,
   "metadata": {},
   "outputs": [
    {
     "data": {
      "text/plain": [
       "1"
      ]
     },
     "execution_count": 37,
     "metadata": {},
     "output_type": "execute_result"
    }
   ],
   "source": [
    "n"
   ]
  },
  {
   "cell_type": "code",
   "execution_count": 45,
   "metadata": {},
   "outputs": [
    {
     "data": {
      "text/plain": [
       "4-element State:\n",
       " 15.0\n",
       " 16.0\n",
       " 17.0\n",
       " 18.0"
      ]
     },
     "execution_count": 45,
     "metadata": {},
     "output_type": "execute_result"
    }
   ],
   "source": [
    "state1 = State(1., 2., 3., 4.)\n",
    "state2 = State(15., 16., 17., 18.)"
   ]
  },
  {
   "cell_type": "code",
   "execution_count": 46,
   "metadata": {},
   "outputs": [
    {
     "data": {
      "text/plain": [
       "4-element State:\n",
       " 14.0\n",
       " 14.0\n",
       " 14.0\n",
       " 14.0"
      ]
     },
     "execution_count": 46,
     "metadata": {},
     "output_type": "execute_result"
    }
   ],
   "source": [
    "state2-state1"
   ]
  },
  {
   "cell_type": "code",
   "execution_count": 48,
   "metadata": {},
   "outputs": [
    {
     "data": {
      "text/plain": [
       "14.0"
      ]
     },
     "execution_count": 48,
     "metadata": {},
     "output_type": "execute_result"
    }
   ],
   "source": [
    "(state2-state1).θ2"
   ]
  },
  {
   "cell_type": "code",
   "execution_count": 49,
   "metadata": {},
   "outputs": [
    {
     "data": {
      "text/plain": [
       "(165810,)"
      ]
     },
     "execution_count": 49,
     "metadata": {},
     "output_type": "execute_result"
    }
   ],
   "source": [
    "size(section2)"
   ]
  },
  {
   "cell_type": "code",
   "execution_count": 1,
   "metadata": {},
   "outputs": [
    {
     "data": {
      "text/plain": [
       "3"
      ]
     },
     "execution_count": 1,
     "metadata": {},
     "output_type": "execute_result"
    }
   ],
   "source": [
    "3::Float64"
   ]
  },
  {
   "cell_type": "code",
   "execution_count": 28,
   "metadata": {},
   "outputs": [
    {
     "data": {
      "text/plain": [
       "true"
      ]
     },
     "execution_count": 28,
     "metadata": {},
     "output_type": "execute_result"
    }
   ],
   "source": [
    "Float64 <: Float64"
   ]
  },
  {
   "cell_type": "code",
   "execution_count": null,
   "metadata": {},
   "outputs": [],
   "source": []
  }
 ],
 "metadata": {
  "kernelspec": {
   "display_name": "Julia 1.5.3",
   "language": "julia",
   "name": "julia-1.5"
  },
  "language_info": {
   "file_extension": ".jl",
   "mimetype": "application/julia",
   "name": "julia",
   "version": "1.5.3"
  }
 },
 "nbformat": 4,
 "nbformat_minor": 4
}
